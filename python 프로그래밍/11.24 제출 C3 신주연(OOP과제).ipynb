{
 "cells": [
  {
   "cell_type": "markdown",
   "id": "9a6fffd2",
   "metadata": {},
   "source": [
    "# 과제"
   ]
  },
  {
   "cell_type": "code",
   "execution_count": 280,
   "id": "4032aa51",
   "metadata": {},
   "outputs": [],
   "source": [
    "class Set():\n",
    "#초기중복제거\n",
    "    def __init__(self,list_=[]):\n",
    "        for i in list_:\n",
    "            while list_.count(i)>1:\n",
    "                list_.remove(i)\n",
    "        self.list_=list_\n",
    "              \n",
    "#추가함수             \n",
    "    def add(self, elem):\n",
    "        if elem not in self.list_:\n",
    "            self.list_.append(elem)\n",
    "#삭제함수    \n",
    "    def discard(self,elem):\n",
    "        if elem in self.list_:\n",
    "            self.list_.remove(elem)\n",
    "#모두 clear\n",
    "    def clear(self):\n",
    "        self.list_.clear()\n",
    "        \n",
    "#list 길이 반환 \n",
    "    def __len__(self):\n",
    "        return len(self.list_)\n",
    "    \n",
    "#문자열로 변환\n",
    "    def __str__(self):\n",
    "        A=\",\".join(str(n) for n in self.list_)\n",
    "        return \"{{{}}}\".format(A)\n",
    "#포함 \n",
    "    def __contains__(self,elem):\n",
    "        if elem in self.list_:\n",
    "            return True\n",
    "        else:\n",
    "            return False\n",
    " #a<=b\n",
    "    def __le__(self,other):\n",
    "        for i in self.list_:\n",
    "            if i not in other.list_:\n",
    "                return False\n",
    "        return True\n",
    "#a>=b\n",
    "    def __ge__(self,other):\n",
    "        for i in other.list_:\n",
    "            if i not in self.list_:\n",
    "                return False\n",
    "        return True\n",
    "    \n",
    "#self|other(합집합)   \n",
    "    def __or__(self,other):\n",
    "        list1=Set([])\n",
    "        for i in self.list_:\n",
    "            list1.add(i)\n",
    "        for j in other.list_:\n",
    "            list1.add(j)\n",
    "        return list1\n",
    "            \n",
    "#a-b 차집합 (질문하기-반대로는 왜 안되나요?)         \n",
    "    def __sub__(self,other):\n",
    "        list2=Set([])\n",
    "        for i in  self.list_:\n",
    "            if i not in other:\n",
    "                list2.add(i)\n",
    "        return list2\n",
    "    \n",
    "#self & other (교집합)\n",
    "    def __and__(self,other):\n",
    "        list3=Set([])\n",
    "        for i in self.list_:\n",
    "            if i in other.list_:\n",
    "                list3.add(i)\n",
    "        return list3\n",
    "    \n",
    "#|=(ior)   \n",
    "    def __ior__(self,other):\n",
    "        for i in other.list_:\n",
    "            self.add(i)\n",
    "        return self\n",
    "            \n",
    "#-=\n",
    "    def __isub__(self,other):\n",
    "        for i in  other.list_:\n",
    "            self.discard(i)\n",
    "        return self\n",
    "    \n",
    "#&=\n",
    "    def __iand__(self,other):\n",
    "        new=self.list_[:]\n",
    "        for i in new:\n",
    "            if i not in other.list_:\n",
    "                self.discard(i)\n",
    "        return self"
   ]
  },
  {
   "cell_type": "code",
   "execution_count": 281,
   "id": "56a00cca",
   "metadata": {},
   "outputs": [],
   "source": [
    "a=Set([1,2,3,4])\n",
    "b=Set([1,2,3,4])"
   ]
  },
  {
   "cell_type": "code",
   "execution_count": 282,
   "id": "678cf80b",
   "metadata": {
    "scrolled": true
   },
   "outputs": [
    {
     "name": "stdout",
     "output_type": "stream",
     "text": [
      "{1,2,3,4}\n"
     ]
    }
   ],
   "source": [
    "print(a)"
   ]
  },
  {
   "cell_type": "code",
   "execution_count": 283,
   "id": "9c66da82",
   "metadata": {
    "scrolled": true
   },
   "outputs": [
    {
     "name": "stdout",
     "output_type": "stream",
     "text": [
      "{1,2,3,4}\n"
     ]
    }
   ],
   "source": [
    "print(b)"
   ]
  },
  {
   "cell_type": "code",
   "execution_count": 284,
   "id": "66ef76a7",
   "metadata": {},
   "outputs": [],
   "source": [
    "a.discard(4)\n",
    "b.discard(1)"
   ]
  },
  {
   "cell_type": "code",
   "execution_count": 285,
   "id": "470df055",
   "metadata": {},
   "outputs": [
    {
     "name": "stdout",
     "output_type": "stream",
     "text": [
      "{1,2,3}\n"
     ]
    }
   ],
   "source": [
    "print(a)"
   ]
  },
  {
   "cell_type": "code",
   "execution_count": 286,
   "id": "7366bb6b",
   "metadata": {},
   "outputs": [
    {
     "name": "stdout",
     "output_type": "stream",
     "text": [
      "{2,3,4}\n"
     ]
    }
   ],
   "source": [
    "print(b)"
   ]
  },
  {
   "cell_type": "code",
   "execution_count": 287,
   "id": "2bbbf93a",
   "metadata": {},
   "outputs": [
    {
     "name": "stdout",
     "output_type": "stream",
     "text": [
      "3\n"
     ]
    }
   ],
   "source": [
    "print(len(a))"
   ]
  },
  {
   "cell_type": "code",
   "execution_count": 288,
   "id": "083668f7",
   "metadata": {},
   "outputs": [
    {
     "name": "stdout",
     "output_type": "stream",
     "text": [
      "True\n"
     ]
    }
   ],
   "source": [
    "print(1 in a)"
   ]
  },
  {
   "cell_type": "code",
   "execution_count": 289,
   "id": "eae68228",
   "metadata": {},
   "outputs": [
    {
     "name": "stdout",
     "output_type": "stream",
     "text": [
      "False\n"
     ]
    }
   ],
   "source": [
    "print(1 in b)"
   ]
  },
  {
   "cell_type": "code",
   "execution_count": 290,
   "id": "f3debcfe",
   "metadata": {},
   "outputs": [
    {
     "name": "stdout",
     "output_type": "stream",
     "text": [
      "{1,2,3,4}\n"
     ]
    }
   ],
   "source": [
    "print(a|b)"
   ]
  },
  {
   "cell_type": "code",
   "execution_count": 291,
   "id": "050895b6",
   "metadata": {},
   "outputs": [
    {
     "name": "stdout",
     "output_type": "stream",
     "text": [
      "{1,2,3}\n"
     ]
    }
   ],
   "source": [
    "print(a)"
   ]
  },
  {
   "cell_type": "code",
   "execution_count": 292,
   "id": "1374323a",
   "metadata": {},
   "outputs": [
    {
     "name": "stdout",
     "output_type": "stream",
     "text": [
      "{2,3,4}\n"
     ]
    }
   ],
   "source": [
    "print(b)"
   ]
  },
  {
   "cell_type": "code",
   "execution_count": 293,
   "id": "043ff3eb",
   "metadata": {},
   "outputs": [
    {
     "name": "stdout",
     "output_type": "stream",
     "text": [
      "{2,3}\n"
     ]
    }
   ],
   "source": [
    "print(a&b)"
   ]
  },
  {
   "cell_type": "code",
   "execution_count": 294,
   "id": "0f846542",
   "metadata": {},
   "outputs": [
    {
     "name": "stdout",
     "output_type": "stream",
     "text": [
      "{1}\n"
     ]
    }
   ],
   "source": [
    "print(a-b)"
   ]
  },
  {
   "cell_type": "code",
   "execution_count": 295,
   "id": "a079ee76",
   "metadata": {},
   "outputs": [
    {
     "name": "stdout",
     "output_type": "stream",
     "text": [
      "False\n"
     ]
    }
   ],
   "source": [
    "print(a<=b)"
   ]
  },
  {
   "cell_type": "code",
   "execution_count": 296,
   "id": "f414b557",
   "metadata": {},
   "outputs": [
    {
     "name": "stdout",
     "output_type": "stream",
     "text": [
      "True\n"
     ]
    }
   ],
   "source": [
    "print(a<=a|b)"
   ]
  },
  {
   "cell_type": "code",
   "execution_count": 297,
   "id": "8711392d",
   "metadata": {},
   "outputs": [
    {
     "name": "stdout",
     "output_type": "stream",
     "text": [
      "False\n"
     ]
    }
   ],
   "source": [
    "print(a>=b)"
   ]
  },
  {
   "cell_type": "code",
   "execution_count": 298,
   "id": "afe3d884",
   "metadata": {},
   "outputs": [
    {
     "name": "stdout",
     "output_type": "stream",
     "text": [
      "True\n"
     ]
    }
   ],
   "source": [
    "print(a>=a&b)"
   ]
  },
  {
   "cell_type": "code",
   "execution_count": 299,
   "id": "985f20b6",
   "metadata": {},
   "outputs": [],
   "source": [
    "b.clear()"
   ]
  },
  {
   "cell_type": "code",
   "execution_count": 300,
   "id": "5e55994a",
   "metadata": {},
   "outputs": [
    {
     "name": "stdout",
     "output_type": "stream",
     "text": [
      "{}\n"
     ]
    }
   ],
   "source": [
    "print(b)"
   ]
  },
  {
   "cell_type": "code",
   "execution_count": 301,
   "id": "bb9113a6",
   "metadata": {},
   "outputs": [],
   "source": [
    "a=Set([1,2,3])\n",
    "b=Set([3,4])\n",
    "address_a=id(a)"
   ]
  },
  {
   "cell_type": "code",
   "execution_count": 302,
   "id": "fa22b06d",
   "metadata": {},
   "outputs": [],
   "source": [
    "a|=b"
   ]
  },
  {
   "cell_type": "code",
   "execution_count": 303,
   "id": "9c1529e8",
   "metadata": {},
   "outputs": [
    {
     "name": "stdout",
     "output_type": "stream",
     "text": [
      "{1,2,3,4}\n"
     ]
    }
   ],
   "source": [
    "print(a)"
   ]
  },
  {
   "cell_type": "code",
   "execution_count": 304,
   "id": "48f7cc2c",
   "metadata": {},
   "outputs": [
    {
     "name": "stdout",
     "output_type": "stream",
     "text": [
      "True\n"
     ]
    }
   ],
   "source": [
    "print(address_a==id(a))"
   ]
  },
  {
   "cell_type": "code",
   "execution_count": 305,
   "id": "116ab0a0",
   "metadata": {},
   "outputs": [],
   "source": [
    "a=Set([1,2,3])\n",
    "b=Set([3,4])\n",
    "address_a=id(a)\n",
    "a&=b"
   ]
  },
  {
   "cell_type": "code",
   "execution_count": 306,
   "id": "3a8b0a51",
   "metadata": {},
   "outputs": [
    {
     "name": "stdout",
     "output_type": "stream",
     "text": [
      "{3}\n"
     ]
    }
   ],
   "source": [
    "print(a)"
   ]
  },
  {
   "cell_type": "code",
   "execution_count": 307,
   "id": "1b17c08a",
   "metadata": {},
   "outputs": [
    {
     "name": "stdout",
     "output_type": "stream",
     "text": [
      "True\n"
     ]
    }
   ],
   "source": [
    "print(address_a==id(a))\n"
   ]
  },
  {
   "cell_type": "code",
   "execution_count": 308,
   "id": "fb74a36c",
   "metadata": {},
   "outputs": [],
   "source": [
    "a=Set([1,2,3])\n",
    "b=Set([3,4])\n",
    "address_a=id(a)\n",
    "a-=b"
   ]
  },
  {
   "cell_type": "code",
   "execution_count": 309,
   "id": "5b9eef65",
   "metadata": {},
   "outputs": [
    {
     "name": "stdout",
     "output_type": "stream",
     "text": [
      "{1,2}\n"
     ]
    }
   ],
   "source": [
    "print(a)"
   ]
  },
  {
   "cell_type": "code",
   "execution_count": 138,
   "id": "cca16ea5",
   "metadata": {},
   "outputs": [
    {
     "name": "stdout",
     "output_type": "stream",
     "text": [
      "True\n"
     ]
    }
   ],
   "source": [
    "print(address_a==id(a))"
   ]
  },
  {
   "cell_type": "code",
   "execution_count": 139,
   "id": "fbffd869",
   "metadata": {},
   "outputs": [
    {
     "name": "stdout",
     "output_type": "stream",
     "text": [
      "\n"
     ]
    }
   ],
   "source": [
    "print()"
   ]
  }
 ],
 "metadata": {
  "kernelspec": {
   "display_name": "Python 3 (ipykernel)",
   "language": "python",
   "name": "python3"
  },
  "language_info": {
   "codemirror_mode": {
    "name": "ipython",
    "version": 3
   },
   "file_extension": ".py",
   "mimetype": "text/x-python",
   "name": "python",
   "nbconvert_exporter": "python",
   "pygments_lexer": "ipython3",
   "version": "3.9.13"
  }
 },
 "nbformat": 4,
 "nbformat_minor": 5
}
