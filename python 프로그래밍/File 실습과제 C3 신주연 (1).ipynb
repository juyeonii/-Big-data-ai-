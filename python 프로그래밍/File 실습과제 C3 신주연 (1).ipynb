{
 "cells": [
  {
   "cell_type": "markdown",
   "id": "4227d197",
   "metadata": {},
   "source": [
    "# 실습1\n",
    "-파일에 있는 각각의 단어 수 구하기"
   ]
  },
  {
   "cell_type": "code",
   "execution_count": 151,
   "id": "5d3c3a4d",
   "metadata": {},
   "outputs": [
    {
     "name": "stdout",
     "output_type": "stream",
     "text": [
      "first 1\n",
      "line 3\n",
      "second 1\n",
      "third 1\n"
     ]
    }
   ],
   "source": [
    "fr=open(\"test.txt\",\"r\")\n",
    "a={}\n",
    "for line in fr:\n",
    "    for i in line.split():\n",
    "        if i in a:\n",
    "            a[i]+=1\n",
    "        else:\n",
    "            a[i]=1\n",
    "            \n",
    "for i in a:\n",
    "    print(i, a[i])\n",
    "#fr.close()"
   ]
  },
  {
   "cell_type": "markdown",
   "id": "eef1c2aa",
   "metadata": {},
   "source": [
    "# 실습2\n",
    "-파일명을 입력 받아, 해당 파일을 한 줄씩 읽어 파일의 내\n",
    "용을 모두 대문자로 출력하는 프로그램을 작성하시오.\n",
    "단, 파일이 없는 경우 “파일이 존재하지 않는다\" 정도의 메\n",
    "시지를 출력할 것"
   ]
  },
  {
   "cell_type": "code",
   "execution_count": null,
   "id": "c7ad66c7",
   "metadata": {},
   "outputs": [],
   "source": [
    "filename=input(\"Enter a file name: \")\n",
    "import os\n",
    "if os.path.exists(filename):\n",
    "    fr=open(filename,\"r\")\n",
    "    for x in fr:\n",
    "        print(x.upper(),end=\"\")\n",
    "else:\n",
    "    print(\"파일이 존재하지 않는다\")"
   ]
  },
  {
   "cell_type": "markdown",
   "id": "349599a9",
   "metadata": {},
   "source": [
    "# 실습3\n",
    "-아래의 실행예시처럼 리눅스 쉘에서 원본파일명\n",
    "(src.txt)과 사본파일(dst.txt)을 입력 받아, 복사하는 프\n",
    "로그램을 작성하시오"
   ]
  },
  {
   "cell_type": "code",
   "execution_count": null,
   "id": "5cce49d9",
   "metadata": {},
   "outputs": [],
   "source": []
  },
  {
   "cell_type": "markdown",
   "id": "9aa66511",
   "metadata": {},
   "source": [
    "# 실습4\n",
    "-아래의 score.txt를 읽어서 학생들의 성적을 처리\n",
    "하여 그 결과를 report.txt로 출력하는 프로그램을 작성하\n",
    "시오."
   ]
  },
  {
   "cell_type": "code",
   "execution_count": null,
   "id": "413b760b",
   "metadata": {},
   "outputs": [],
   "source": [
    "fr = open(\"score.txt\", \"r\")\n",
    "fw = open(\"report.txt\", \"w\")\n",
    "def grade(x):\n",
    "    if x>=90: return \"A\"\n",
    "    elif 80<=x: return \"B\"\n",
    "    elif 70<=x: return \"C\"\n",
    "    elif 60<=x: return \"D\"\n",
    "    else: return \"F\"\n",
    "for i in fr:\n",
    "    a, b, c = i.split()\n",
    "    score= 0.4*int(b) + 0.6*int(c)\n",
    "    data=\"{0} {1} {2} {3} ({4})\\n\".format(a,b,c,score,grade(score))\n",
    "    print(data)\n",
    "    fw.write(data)\n",
    "fr.close()\n",
    "fw.close()"
   ]
  },
  {
   "cell_type": "code",
   "execution_count": null,
   "id": "63aaf452",
   "metadata": {},
   "outputs": [],
   "source": []
  }
 ],
 "metadata": {
  "kernelspec": {
   "display_name": "Python 3 (ipykernel)",
   "language": "python",
   "name": "python3"
  },
  "language_info": {
   "codemirror_mode": {
    "name": "ipython",
    "version": 3
   },
   "file_extension": ".py",
   "mimetype": "text/x-python",
   "name": "python",
   "nbconvert_exporter": "python",
   "pygments_lexer": "ipython3",
   "version": "3.9.13"
  }
 },
 "nbformat": 4,
 "nbformat_minor": 5
}
