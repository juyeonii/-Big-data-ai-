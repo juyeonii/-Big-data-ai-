{
 "cells": [
  {
   "cell_type": "markdown",
   "id": "ac50d9fb",
   "metadata": {},
   "source": [
    "# 실습1"
   ]
  },
  {
   "cell_type": "code",
   "execution_count": 1,
   "id": "c4f32c18",
   "metadata": {},
   "outputs": [
    {
     "name": "stdout",
     "output_type": "stream",
     "text": [
      "6 13\n"
     ]
    }
   ],
   "source": [
    "a=[5,5,6,7,8,3]\n",
    "b=\"Life is short\"\n",
    "def my_len(x):\n",
    "    length=0\n",
    "    for i in x:\n",
    "        length+=1\n",
    "    return length\n",
    "print(my_len(a),my_len(b))"
   ]
  },
  {
   "cell_type": "markdown",
   "id": "17f339b7",
   "metadata": {},
   "source": [
    "# 실습2"
   ]
  },
  {
   "cell_type": "code",
   "execution_count": 2,
   "id": "5f6343a3",
   "metadata": {},
   "outputs": [
    {
     "data": {
      "text/plain": [
       "(6, 120)"
      ]
     },
     "execution_count": 2,
     "metadata": {},
     "output_type": "execute_result"
    }
   ],
   "source": [
    "#양의 정수 a ,b를 전달받아 a부터 b까지 곱해서 반환하는 mult\n",
    "def mult(a,b):\n",
    "    sum=1\n",
    "    for i in range(a,b+1):\n",
    "        sum*=i\n",
    "    return sum\n",
    "mult(1,3),mult(2,5)"
   ]
  },
  {
   "cell_type": "markdown",
   "id": "7401e676",
   "metadata": {},
   "source": [
    "# 실습3"
   ]
  },
  {
   "cell_type": "code",
   "execution_count": 3,
   "id": "a0a0dfb7",
   "metadata": {},
   "outputs": [
    {
     "name": "stdout",
     "output_type": "stream",
     "text": [
      "7 -9\n"
     ]
    }
   ],
   "source": [
    "def sum_pos_neg(l):\n",
    "    possum=0\n",
    "    negsum=0\n",
    "    for i in l:\n",
    "        if i>0:\n",
    "            possum+=i\n",
    "        else:\n",
    "            negsum+=i\n",
    "    return possum,negsum\n",
    "possum,negsum=sum_pos_neg([3,4,-6,-3])\n",
    "print(possum,negsum)"
   ]
  },
  {
   "cell_type": "markdown",
   "id": "188ab439",
   "metadata": {},
   "source": [
    "# 실습4"
   ]
  },
  {
   "cell_type": "code",
   "execution_count": 4,
   "id": "73780948",
   "metadata": {},
   "outputs": [],
   "source": [
    "def vector_sum(vector,*vectors):\n",
    "    sum1=vector[0]\n",
    "    sum2=vector[1]\n",
    "    for x,y in vectors:\n",
    "        sum1+=x\n",
    "        sum2+=y\n",
    "    return [sum1,sum2]"
   ]
  },
  {
   "cell_type": "code",
   "execution_count": 5,
   "id": "ce8758f2",
   "metadata": {},
   "outputs": [
    {
     "name": "stdout",
     "output_type": "stream",
     "text": [
      "[1.5, 1.5] [7.5, 5.5] [4.140000000000001, 2.72]\n"
     ]
    }
   ],
   "source": [
    "v1=[0,1]\n",
    "v2=[0.5,0.5]\n",
    "v3=[1,0]\n",
    "v4=[6,4]\n",
    "v5=[3.14,2.72]\n",
    "    \n",
    "m1=vector_sum(v1,v2,v3)\n",
    "m2=vector_sum(v1,v2,v3,v4)\n",
    "m3=vector_sum(v3,v5)\n",
    "print(m1,m2,m3)"
   ]
  },
  {
   "cell_type": "markdown",
   "id": "e075831a",
   "metadata": {},
   "source": [
    "# 실습5"
   ]
  },
  {
   "cell_type": "code",
   "execution_count": 6,
   "id": "e0b370b0",
   "metadata": {},
   "outputs": [
    {
     "name": "stdout",
     "output_type": "stream",
     "text": [
      "[1, 1, 2, 2, 3, 5, 9]\n",
      "[0, 4, 6, 9]\n",
      "[0, 0]\n"
     ]
    }
   ],
   "source": [
    "def merge_list(list1=[0],list2=[0]):\n",
    "    list3=list1+list2\n",
    "    sorted_list=sorted(list3)\n",
    "    return sorted_list\n",
    "l=[3,5,9,1,2]\n",
    "ml1=merge_list(l,[2,1])\n",
    "ml2=merge_list([6,9,4])\n",
    "ml3=merge_list()\n",
    "print(ml1)\n",
    "print(ml2)\n",
    "print(ml3)"
   ]
  },
  {
   "cell_type": "markdown",
   "id": "f04d4f9f",
   "metadata": {},
   "source": [
    "# 실습6"
   ]
  },
  {
   "cell_type": "code",
   "execution_count": 8,
   "id": "261a6dba",
   "metadata": {},
   "outputs": [
    {
     "name": "stdout",
     "output_type": "stream",
     "text": [
      "**로또 번호 자동 기입을 시작합니다**\n",
      "1 번째 자동 기입==> [41, 17, 34, 40, 27, 12]\n",
      "2 번째 자동 기입==> [25, 13, 32, 28, 19, 2]\n",
      "3 번째 자동 기입==> [30, 43, 16, 6, 23, 39]\n",
      "4 번째 자동 기입==> [45, 40, 12, 10, 25, 30]\n",
      "5 번째 자동 기입==> [42, 28, 33, 39, 14, 36]\n"
     ]
    }
   ],
   "source": [
    "import random\n",
    "Ls=range(1,46)\n",
    "print(\"**로또 번호 자동 기입을 시작합니다**\")\n",
    "\n",
    "for i in range(5):\n",
    "    print(i+1,\"번째 자동 기입==>\",random.sample(Ls,6))\n",
    "    "
   ]
  },
  {
   "cell_type": "markdown",
   "id": "d71d2c8c",
   "metadata": {},
   "source": [
    "# 실습7"
   ]
  },
  {
   "cell_type": "code",
   "execution_count": 9,
   "id": "c272c129",
   "metadata": {},
   "outputs": [
    {
     "name": "stdout",
     "output_type": "stream",
     "text": [
      "1\n",
      "9\n",
      "[3, 5, 2]\n"
     ]
    }
   ],
   "source": [
    "def get_min_max(l):\n",
    "    min_val=min(l)\n",
    "    max_val=max(l)\n",
    "    l.remove(min_val)\n",
    "    l.remove(max_val)\n",
    "    return min_val,max_val\n",
    "l=[3,5,9,1,2]\n",
    "min_val,max_val=get_min_max(l)\n",
    "print(min_val)\n",
    "print(max_val)\n",
    "print(l)"
   ]
  },
  {
   "cell_type": "markdown",
   "id": "5b4c3aec",
   "metadata": {},
   "source": [
    "# 실습8"
   ]
  },
  {
   "cell_type": "code",
   "execution_count": 11,
   "id": "77482afb",
   "metadata": {},
   "outputs": [
    {
     "name": "stdout",
     "output_type": "stream",
     "text": [
      "{'a': 3, 'b': 3, 'd': 7, 'e': 9, 'c': 4}\n"
     ]
    }
   ],
   "source": [
    "def comb_dict(d1,d2):\n",
    "    for ch in d2:\n",
    "        if ch in d1:\n",
    "            d1[ch] += d2[ch]\n",
    "        else:\n",
    "            d1[ch] = d2[ch]\n",
    "        \n",
    "            \n",
    "    return d1\n",
    "\n",
    "d1={\"a\":1,\"b\":3,\"d\":7,\"e\":8}\n",
    "d2={\"a\":2,\"c\":4,\"e\":1}\n",
    "d3=comb_dict(d1,d2)\n",
    "print(d3)"
   ]
  },
  {
   "cell_type": "markdown",
   "id": "0899ee87",
   "metadata": {},
   "source": [
    "# 실습9"
   ]
  },
  {
   "cell_type": "code",
   "execution_count": 10,
   "id": "d9179109",
   "metadata": {},
   "outputs": [
    {
     "name": "stdout",
     "output_type": "stream",
     "text": [
      "4\n",
      "300\n"
     ]
    }
   ],
   "source": [
    "def diff(*x):\n",
    "    if len(x)>1:\n",
    "        maximum=max(x)\n",
    "        minimum=min(x)\n",
    "    return maximum-minimum\n",
    "print(diff(1,2,3,4,5))\n",
    "print(diff(-100,200))"
   ]
  }
 ],
 "metadata": {
  "kernelspec": {
   "display_name": "Python 3 (ipykernel)",
   "language": "python",
   "name": "python3"
  },
  "language_info": {
   "codemirror_mode": {
    "name": "ipython",
    "version": 3
   },
   "file_extension": ".py",
   "mimetype": "text/x-python",
   "name": "python",
   "nbconvert_exporter": "python",
   "pygments_lexer": "ipython3",
   "version": "3.9.13"
  }
 },
 "nbformat": 4,
 "nbformat_minor": 5
}
