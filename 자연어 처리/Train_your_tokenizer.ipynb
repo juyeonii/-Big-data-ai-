{
  "cells": [
    {
      "cell_type": "markdown",
      "metadata": {
        "id": "X4cRE8IbIrIV"
      },
      "source": [
        "Colab에서 이 노트북을 연 경우, 필요한 라이브러리를 미리 설치해야 할 가능성이 높습니다. 아래 코드의 주석 (#)을 해제하고 실행합니다."
      ]
    },
    {
      "cell_type": "code",
      "execution_count": null,
      "metadata": {
        "id": "MOsHUjgdIrIW"
      },
      "outputs": [],
      "source": [
        "# ! pip install datasets transformers[sentencepiece]"
      ]
    },
    {
      "cell_type": "markdown",
      "metadata": {
        "id": "HFASsisvIrIb"
      },
      "source": [
        "로컬에서 이 노트북을 연 경우 (Jypyter Notebook 등) 최신 버전의 Transformer 설치가 완료된 가상환경을 사용해야 합니다. \n",
        "머신러닝딥러닝 과목 실습 시간에 사용한 가상환경을 베이스로 위 코드를 통해 transformer / transformer dataset을 설치해서 사용할 수도 있습니다. "
      ]
    },
    {
      "cell_type": "markdown",
      "metadata": {
        "id": "W4LMm2F5p9-H"
      },
      "source": [
        "# Training your own tokenizer from scratch"
      ]
    },
    {
      "cell_type": "markdown",
      "metadata": {
        "id": "awfhK-BOp9-H"
      },
      "source": [
        "이번 실습을 통해, 주어진 corpus를 활용해서 tokenizer를 fine-tune하는 방법을 실습해봅니다. 이를 활용하여 Language Model을 학습시킬 수 있습니다.\n",
        "\n",
        "Tokenizer를 *학습*하는것이 필요한 이유는, Transformer 모델은 대부분 subword tokenization algorithm을 사용하기 때문입니다. subword tokenization algorithm은 사용하는 corpus에서 자주 등장하는 subword를 분류하도록 tokenizer를 학습 시킵니다.\n",
        "\n",
        "추가적인 읽을거리로 Huggingface [공식 학습 자료](https://huggingface.co/course/chapter2/4?fw=pt)에서 tokenizer에 대한 전반적인 내용을 열람하고, [tokenizers summary](https://huggingface.co/transformers/tokenizer_summary.html) 챕터에서 다양한 subword tokenization algorithm을 접할 수 있습니다. "
      ]
    },
    {
      "cell_type": "markdown",
      "metadata": {
        "id": "WWUjGq2wp9-I"
      },
      "source": [
        "## Getting a corpus"
      ]
    },
    {
      "cell_type": "markdown",
      "metadata": {
        "id": "vk7GjNW5p9-I"
      },
      "source": [
        "tokenizer 학습을 위해 text 데이터가 필요합니다. Huggingface [Datasets](https://github.com/huggingface/datasets) 라이브러리의 `load_dataset` 함수를 활용해서 데이터를 다운로드 받을 수 있습니다. 이는 다음 실습시간과 AI 설계 과정에서도 유용하게 사용할 수 있습니다."
      ]
    },
    {
      "cell_type": "code",
      "execution_count": 2,
      "metadata": {
        "id": "uvm77RZcp9-J"
      },
      "outputs": [],
      "source": [
        "from datasets import load_dataset"
      ]
    },
    {
      "cell_type": "markdown",
      "metadata": {
        "id": "A9JVJRtHp9-J"
      },
      "source": [
        "이번 실습시간에서는 Wikitext-2 dataset 을 사용해서 tokenizer를 학습합니다. 빠른 실습 진행을 위해 4.5MB 정도로 작은 데이터를 사용했지만 필요에 따라 훨씬 큰 (수백GB 정도의) 데이터를 사용할 수 있고, 영어 뿐만 아니라 다양한 언어로 된 텍스트를 사용할 수도 있습니다. 여러 언어가 섞인 데이터를 사용할 수도 있습니다.\n"
      ]
    },
    {
      "cell_type": "code",
      "execution_count": null,
      "metadata": {
        "id": "i2EFmQU8p9-K"
      },
      "outputs": [],
      "source": [
        "dataset = load_dataset(\"wikitext\", name=\"wikitext-2-raw-v1\", split=\"train\")"
      ]
    },
    {
      "cell_type": "markdown",
      "metadata": {
        "id": "P-_EfJxmp9-L"
      },
      "source": [
        "We can have a look at the dataset, which as 36,718 texts:"
      ]
    },
    {
      "cell_type": "code",
      "execution_count": null,
      "metadata": {
        "id": "NVLpVKm1p9-L"
      },
      "outputs": [],
      "source": [
        "dataset"
      ]
    },
    {
      "cell_type": "markdown",
      "metadata": {
        "id": "AcmSAnPmp9-M"
      },
      "source": [
        "배열의 원소에 접근하듯이 단일 데이터에 접근할 수 있습니다."
      ]
    },
    {
      "cell_type": "code",
      "execution_count": null,
      "metadata": {
        "id": "5Jw6OM6Mp9-M"
      },
      "outputs": [],
      "source": [
        "dataset[1]"
      ]
    },
    {
      "cell_type": "markdown",
      "metadata": {
        "id": "VNELVNWUp9-M"
      },
      "source": [
        "배열의 부분배열을 호출하듯이, dataset의 일부를 간단히 접근할 수 있습니다. 아래 코드를 실행하면 `\"text\"` 가 key이고, 5개의 문장 list를 value로 가지고 있는 dictionary를 열람할 수 있습니다."
      ]
    },
    {
      "cell_type": "code",
      "execution_count": null,
      "metadata": {
        "id": "L45LoXLEp9-N"
      },
      "outputs": [],
      "source": [
        "dataset[:5]"
      ]
    },
    {
      "cell_type": "markdown",
      "metadata": {
        "id": "11LgtX7jp9-N"
      },
      "source": [
        "Tokenizer를 학습시키기 위한 Huggingface API는 batch text를 출력하는 iterator를 요구합니다. 예시로 아래와 같이 텍스트 list의 list를 사용할 수 있습니다."
      ]
    },
    {
      "cell_type": "code",
      "execution_count": 7,
      "metadata": {
        "id": "bozakJMOp9-N"
      },
      "outputs": [],
      "source": [
        "batch_size = 1000\n",
        "all_texts = [dataset[i : i + batch_size][\"text\"] for i in range(0, len(dataset), batch_size)]"
      ]
    },
    {
      "cell_type": "markdown",
      "metadata": {
        "id": "pYw5W2nap9-N"
      },
      "source": [
        "모든 데이터를 한번에 메모리에 올리는 것을 방지하기 위해 Python Iterator를 정의하여 필요한 데이터만 메모리에 올리도록 합니다. 이는 거대한 데이터셋을 사용하여 학습할 때 유용하게 쓸 수 있습니다."
      ]
    },
    {
      "cell_type": "code",
      "execution_count": 8,
      "metadata": {
        "id": "K9fTgRkbp9-O"
      },
      "outputs": [],
      "source": [
        "def batch_iterator():\n",
        "    for i in range(0, len(dataset), batch_size):\n",
        "        yield dataset[i : i + batch_size][\"text\"]"
      ]
    },
    {
      "cell_type": "markdown",
      "metadata": {
        "id": "YVpySxi8p9-O"
      },
      "source": [
        "## Using an existing tokenizer"
      ]
    },
    {
      "cell_type": "markdown",
      "metadata": {
        "id": "F9n4xez7p9-O"
      },
      "source": [
        "기존에 존재하는 tokenizer와 동일한 알고리즘과 파라미터를 사용하여 tokenizer를 학습하고자 한다면, `train_new_from_iterator` API를 사용할 수 있습니다. 예시로, BERT Tokenizer를 wikitext-2 데이터셋을 통해 학습시켜봅시다.\n",
        "\n",
        "먼저, 사용하고자 하는 tokenizer를 load합니다."
      ]
    },
    {
      "cell_type": "code",
      "execution_count": null,
      "metadata": {
        "id": "n-Hzcz_np9-P"
      },
      "outputs": [],
      "source": [
        "from transformers import AutoTokenizer\n",
        "\n",
        "tokenizer = AutoTokenizer.from_pretrained(\"bert-base-cased\")"
      ]
    },
    {
      "cell_type": "markdown",
      "metadata": {
        "id": "wmNWnVqvp9-P"
      },
      "source": [
        "Load된 tokenizer가 *fast* 버전 (Huggingface backbone)인지 확인합니다. 아니라면 하단의 코드가 작동하지 않습니다."
      ]
    },
    {
      "cell_type": "code",
      "execution_count": null,
      "metadata": {
        "id": "5rYjlgcop9-P"
      },
      "outputs": [],
      "source": [
        "tokenizer.is_fast"
      ]
    },
    {
      "cell_type": "markdown",
      "metadata": {
        "id": "U4iaaNdLp9-P"
      },
      "source": [
        "이제 앞서 정의한 traning corpus (list의 list 혹은 앞서 정의한 iterator)를 `train_new_from_iterator` 메서드에 입력합니다. 이때 tokenizer가 가질 vocabulary size를 정할 수 있습니다. "
      ]
    },
    {
      "cell_type": "code",
      "execution_count": 11,
      "metadata": {
        "id": "fdrfE0Ocp9-P"
      },
      "outputs": [],
      "source": [
        "new_tokenizer = tokenizer.train_new_from_iterator(batch_iterator(), vocab_size=25000)"
      ]
    },
    {
      "cell_type": "markdown",
      "metadata": {
        "id": "2tEe0D1Up9-P"
      },
      "source": [
        "Tokenizer 학습이 완료되었습니다! 아래와 같이 테스트를 해볼 수 있습니다:"
      ]
    },
    {
      "cell_type": "code",
      "execution_count": null,
      "metadata": {
        "id": "h99u6kaFp9-P"
      },
      "outputs": [],
      "source": [
        "for i in range(5):\n",
        "  print(\"Original Text:{}\".format(dataset[i][\"text\"]))\n",
        "print(\"Tokenized:\")\n",
        "new_tokenizer(dataset[:5][\"text\"])"
      ]
    },
    {
      "cell_type": "markdown",
      "metadata": {
        "id": "wFy9eVmap9-Q"
      },
      "source": [
        "학습이 완료된 tokenizer를 `save_pretrained` 메서드로 로컬로 저장할 수 있습니다."
      ]
    },
    {
      "cell_type": "code",
      "execution_count": null,
      "metadata": {
        "id": "mjz3T5TDp9-Q"
      },
      "outputs": [],
      "source": [
        "new_tokenizer.save_pretrained(\"my-new-tokenizer\")"
      ]
    },
    {
      "cell_type": "markdown",
      "source": [
        "아래 블럭은 Huggingface 에서 제공하는 tokenizer 관련 튜토리얼 중, 제로 베이스에서 tokenizer를 학습 시키는 방법에 대한 내용입니다. "
      ],
      "metadata": {
        "id": "5WhNtqoKIJBx"
      }
    },
    {
      "cell_type": "markdown",
      "metadata": {
        "id": "nPpqkTSwp9-R"
      },
      "source": [
        "## Building your tokenizer from scratch"
      ]
    },
    {
      "cell_type": "markdown",
      "metadata": {
        "id": "e9Q0rV3Bp9-R"
      },
      "source": [
        "To understand how to build your tokenizer from scratch, we have to dive a little bit more in the 🤗 Tokenizers library and the tokenization pipeline. This pipeline takes several steps:\n",
        "\n",
        "- **Normalization**: Executes all the initial transformations over the initial input string. For example when you need to lowercase some text, maybe strip it, or even apply one of the common unicode normalization process, you will add a Normalizer.\n",
        "- **Pre-tokenization**: In charge of splitting the initial input string. That's the component that decides where and how to pre-segment the origin string. The simplest example would be to simply split on spaces.\n",
        "- **Model**: Handles all the sub-token discovery and generation, this is the part that is trainable and really dependent of your input data.\n",
        "- **Post-Processing**: Provides advanced construction features to be compatible with some of the Transformers-based SoTA models. For instance, for BERT it would wrap the tokenized sentence around [CLS] and [SEP] tokens.\n",
        "\n",
        "And to go in the other direction:\n",
        "\n",
        "- **Decoding**: In charge of mapping back a tokenized input to the original string. The decoder is usually chosen according to the `PreTokenizer` we used previously.\n",
        "\n",
        "For the training of the model, the 🤗 Tokenizers library provides a `Trainer` class that we will use.\n",
        "\n",
        "All of these building blocks can be combined to create working tokenization pipelines. To give you some examples, we will show three full pipelines here: how to replicate GPT-2, BERT and T5 (which will give you an example of BPE, WordPiece and Unigram tokenizer)."
      ]
    },
    {
      "cell_type": "markdown",
      "metadata": {
        "id": "qjoz7fI-p9-R"
      },
      "source": [
        "### WordPiece model like BERT"
      ]
    },
    {
      "cell_type": "markdown",
      "metadata": {
        "id": "LcRLcogfp9-R"
      },
      "source": [
        "Let's have a look at how we can create a WordPiece tokenizer like the one used for training BERT. The first step is to create a `Tokenizer` with an empty `WordPiece` model:"
      ]
    },
    {
      "cell_type": "code",
      "execution_count": null,
      "metadata": {
        "id": "ec0535I8p9-S"
      },
      "outputs": [],
      "source": [
        "from tokenizers import decoders, models, normalizers, pre_tokenizers, processors, trainers, Tokenizer\n",
        "\n",
        "tokenizer = Tokenizer(models.WordPiece(unl_token=\"[UNK]\"))"
      ]
    },
    {
      "cell_type": "markdown",
      "metadata": {
        "id": "Au5BXQI2p9-S"
      },
      "source": [
        "This `tokenizer` is not ready for training yet. We have to add some preprocessing steps: the normalization (which is optional) and the pre-tokenizer, which will split inputs into the chunks we will call words. The tokens will then be part of those words (but can't be larger than that).\n",
        "\n",
        "In the case of BERT, the normalization is lowercasing. Since BERT is such a popular model, it has its own normalizer:"
      ]
    },
    {
      "cell_type": "code",
      "execution_count": null,
      "metadata": {
        "id": "ORgVr_Cap9-S"
      },
      "outputs": [],
      "source": [
        "tokenizer.normalizer = normalizers.BertNormalizer(lowercase=True)"
      ]
    },
    {
      "cell_type": "markdown",
      "metadata": {
        "id": "EhbNtLc8p9-S"
      },
      "source": [
        "If you want to customize it, you can use the existing blocks and compose them in a sequence: here for instance we lower case, apply NFD normalization and strip the accents:"
      ]
    },
    {
      "cell_type": "code",
      "execution_count": null,
      "metadata": {
        "id": "YbuXiWCUp9-S"
      },
      "outputs": [],
      "source": [
        "tokenizer.normalizer = normalizers.Sequence(\n",
        "    [normalizers.NFD(), normalizers.Lowercase(), normalizers.StripAccents()]\n",
        ")"
      ]
    },
    {
      "cell_type": "markdown",
      "metadata": {
        "id": "yGDL6Zicp9-S"
      },
      "source": [
        "There is also a `BertPreTokenizer` we can use directly. It pre-tokenizes using white space and punctuation:"
      ]
    },
    {
      "cell_type": "code",
      "execution_count": null,
      "metadata": {
        "id": "lgHwxugPp9-S"
      },
      "outputs": [],
      "source": [
        "tokenizer.pre_tokenizer = pre_tokenizers.BertPreTokenizer()"
      ]
    },
    {
      "cell_type": "markdown",
      "metadata": {
        "id": "RcvcydpUp9-S"
      },
      "source": [
        "Like for the normalizer, we can combine several pre-tokenizers in a `Sequence`. If we want to have a quick look at how it preprocesses the inputs, we can call the `pre_tokenize_str` method:"
      ]
    },
    {
      "cell_type": "code",
      "execution_count": null,
      "metadata": {
        "id": "w8f_2Fbnp9-S"
      },
      "outputs": [],
      "source": [
        "tokenizer.pre_tokenizer.pre_tokenize_str(\"This is an example!\")"
      ]
    },
    {
      "cell_type": "markdown",
      "metadata": {
        "id": "QVhklwz4p9-T"
      },
      "source": [
        "Note that the pre-tokenizer not only split the text into words but keeps the offsets, that is the beginning and start of each of those words inside the original text. This is what will allow the final tokenizer to be able to match each token to the part of the text that it comes from (a feature we use for question answering or token classification tasks).\n",
        "\n",
        "We can now train our tokenizer (the pipeline is not entirely finished but we will need a trained tokenizer to build the post-processor), we use a `WordPieceTrainer` for that. The key thing to remember is to pass along the special tokens to the trainer, as they won't be seen in the corpus."
      ]
    },
    {
      "cell_type": "code",
      "execution_count": null,
      "metadata": {
        "id": "kjTfqtg2p9-T"
      },
      "outputs": [],
      "source": [
        "special_tokens = [\"[UNK]\", \"[PAD]\", \"[CLS]\", \"[SEP]\", \"[MASK]\"]\n",
        "trainer = trainers.WordPieceTrainer(vocab_size=25000, special_tokens=special_tokens)"
      ]
    },
    {
      "cell_type": "markdown",
      "metadata": {
        "id": "S8TJCnzPp9-T"
      },
      "source": [
        "To actually train the tokenizer, the method looks like what we used before: we can either pass some text files, or an iterator of batches of texts:"
      ]
    },
    {
      "cell_type": "code",
      "execution_count": null,
      "metadata": {
        "id": "MUs9qJNKp9-T"
      },
      "outputs": [],
      "source": [
        "tokenizer.train_from_iterator(batch_iterator(), trainer=trainer)"
      ]
    },
    {
      "cell_type": "markdown",
      "metadata": {
        "id": "_kFcgUeQp9-T"
      },
      "source": [
        "Now that the tokenizer is trained, we can define the post-processor: we need to add the CLS token at the beginning and the SEP token at the end (for single sentences) or several SEP tokens (for pairs of sentences). We use a [`TemplateProcessing`](https://huggingface.co/docs/tokenizers/python/latest/api/reference.html#tokenizers.processors.TemplateProcessing) to do this, which requires to know the IDs of the CLS and SEP token (which is why we waited for the training).\n",
        "\n",
        "So let's first grab the ids of the two special tokens:"
      ]
    },
    {
      "cell_type": "code",
      "execution_count": null,
      "metadata": {
        "id": "_oM4ctxJp9-T"
      },
      "outputs": [],
      "source": [
        "cls_token_id = tokenizer.token_to_id(\"[CLS]\")\n",
        "sep_token_id = tokenizer.token_to_id(\"[SEP]\")\n",
        "print(cls_token_id, sep_token_id)"
      ]
    },
    {
      "cell_type": "markdown",
      "metadata": {
        "id": "XZIlQxjHp9-T"
      },
      "source": [
        "And here is how we can build our post processor. We have to indicate in the template how to organize the special tokens with one sentence (`$A`) or two sentences (`$A` and `$B`). The `:` followed by a number indicates the token type ID to give to each part."
      ]
    },
    {
      "cell_type": "code",
      "execution_count": null,
      "metadata": {
        "id": "nWAA6gE6p9-T"
      },
      "outputs": [],
      "source": [
        "tokenizer.post_processor = processors.TemplateProcessing(\n",
        "    single=f\"[CLS]:0 $A:0 [SEP]:0\",\n",
        "    pair=f\"[CLS]:0 $A:0 [SEP]:0 $B:1 [SEP]:1\",\n",
        "    special_tokens=[\n",
        "        (\"[CLS]\", cls_token_id),\n",
        "        (\"[SEP]\", sep_token_id),\n",
        "    ],\n",
        ")"
      ]
    },
    {
      "cell_type": "markdown",
      "metadata": {
        "id": "vfGNOKYqp9-T"
      },
      "source": [
        "We can check we get the expected results by encoding a pair of sentences for instance:"
      ]
    },
    {
      "cell_type": "code",
      "execution_count": null,
      "metadata": {
        "id": "GoyGNV2fp9-U"
      },
      "outputs": [],
      "source": [
        "encoding = tokenizer.encode(\"This is one sentence.\", \"With this one we have a pair.\")"
      ]
    },
    {
      "cell_type": "markdown",
      "metadata": {
        "id": "gFzv8t_Fp9-U"
      },
      "source": [
        "We can look at the tokens to check the special tokens have been inserted in the right places:"
      ]
    },
    {
      "cell_type": "code",
      "execution_count": null,
      "metadata": {
        "id": "0AxmUhMBp9-U"
      },
      "outputs": [],
      "source": [
        "encoding.tokens"
      ]
    },
    {
      "cell_type": "markdown",
      "metadata": {
        "id": "O7dgSQfwp9-U"
      },
      "source": [
        "And we can check the token type ids are correct:"
      ]
    },
    {
      "cell_type": "code",
      "execution_count": null,
      "metadata": {
        "id": "Fn9zO04dp9-U"
      },
      "outputs": [],
      "source": [
        "encoding.type_ids"
      ]
    },
    {
      "cell_type": "markdown",
      "metadata": {
        "id": "vCr3PsUrp9-U"
      },
      "source": [
        "The last piece in this tokenizer is the decoder, we use a `WordPiece` decoder and indicate the special prefix `##`:"
      ]
    },
    {
      "cell_type": "code",
      "execution_count": null,
      "metadata": {
        "id": "k58i7OJvp9-U"
      },
      "outputs": [],
      "source": [
        "tokenizer.decoder = decoders.WordPiece(prefix=\"##\")"
      ]
    },
    {
      "cell_type": "markdown",
      "metadata": {
        "id": "LLSVxUDhp9-U"
      },
      "source": [
        "Now that our tokenizer is finished, we need to wrap it inside a Transformers object to be able to use it with the Transformers library. More specifically, we have to put it inside the class of tokenizer fast corresponding to the model we want to use, here a `BertTokenizerFast`:"
      ]
    },
    {
      "cell_type": "code",
      "execution_count": null,
      "metadata": {
        "id": "NXZXWKurp9-U"
      },
      "outputs": [],
      "source": [
        "from transformers import BertTokenizerFast\n",
        "\n",
        "new_tokenizer = BertTokenizerFast(tokenizer_object=tokenizer)"
      ]
    },
    {
      "cell_type": "markdown",
      "metadata": {
        "id": "9cX4SfHzp9-U"
      },
      "source": [
        "And like before, we can use this tokenizer as a normal Transformers tokenizer, and use the `save_pretrained` or `push_to_hub` methods.\n",
        "\n",
        "If the tokenizer you are building does not match any class in Transformers because it's really special, you can wrap it in `PreTrainedTokenizerFast`."
      ]
    },
    {
      "cell_type": "markdown",
      "metadata": {
        "id": "TeG516Ipp9-U"
      },
      "source": [
        "### BPE model like GPT-2"
      ]
    },
    {
      "cell_type": "markdown",
      "metadata": {
        "id": "ha4wzxDBp9-U"
      },
      "source": [
        "Let's now have a look at how we can create a BPE tokenizer like the one used for training GPT-2. The first step is to create a `Tokenizer` with an empty `BPE` model:"
      ]
    },
    {
      "cell_type": "code",
      "execution_count": null,
      "metadata": {
        "id": "GA0euRmrp9-V"
      },
      "outputs": [],
      "source": [
        "tokenizer = Tokenizer(models.BPE())"
      ]
    },
    {
      "cell_type": "markdown",
      "metadata": {
        "id": "P3SMiw9op9-V"
      },
      "source": [
        "Like before, we have to add the optional normalization (not used in the case of GPT-2) and we need to specify a pre-tokenizer before training. In the case of GPT-2, the pre-tokenizer used is a byte level pre-tokenizer:"
      ]
    },
    {
      "cell_type": "code",
      "execution_count": null,
      "metadata": {
        "id": "QL99BWibp9-V"
      },
      "outputs": [],
      "source": [
        "tokenizer.pre_tokenizer = pre_tokenizers.ByteLevel(add_prefix_space=False)"
      ]
    },
    {
      "cell_type": "markdown",
      "metadata": {
        "id": "hnrayq3Gp9-V"
      },
      "source": [
        "If we want to have a quick look at how it preprocesses the inputs, we can call the `pre_tokenize_str` method:"
      ]
    },
    {
      "cell_type": "code",
      "execution_count": null,
      "metadata": {
        "id": "96XSUWQHp9-V"
      },
      "outputs": [],
      "source": [
        "tokenizer.pre_tokenizer.pre_tokenize_str(\"This is an example!\")"
      ]
    },
    {
      "cell_type": "markdown",
      "metadata": {
        "id": "S3txhLA-p9-V"
      },
      "source": [
        "We used the same default as for GPT-2 for the prefix space, so you can see that each word gets an initial `'Ġ'` added at the beginning, except the first one.\n",
        "\n",
        "We can now train our tokenizer! This time we use a `BpeTrainer`."
      ]
    },
    {
      "cell_type": "code",
      "execution_count": null,
      "metadata": {
        "id": "LVxiHcD4p9-V"
      },
      "outputs": [],
      "source": [
        "trainer = trainers.BpeTrainer(vocab_size=25000, special_tokens=[\"<|endoftext|>\"])\n",
        "tokenizer.train_from_iterator(batch_iterator(), trainer=trainer)"
      ]
    },
    {
      "cell_type": "markdown",
      "metadata": {
        "id": "kV5YiiCWp9-V"
      },
      "source": [
        "To finish the whole pipeline, we have to include the post-processor and decoder:"
      ]
    },
    {
      "cell_type": "code",
      "execution_count": null,
      "metadata": {
        "id": "nJaSPLbKp9-V"
      },
      "outputs": [],
      "source": [
        "tokenizer.post_processor = processors.ByteLevel(trim_offsets=False)\n",
        "tokenizer.decoder = decoders.ByteLevel()"
      ]
    },
    {
      "cell_type": "markdown",
      "metadata": {
        "id": "rdg-J21ep9-V"
      },
      "source": [
        "And like before, we finish by wrapping this in a Transformers tokenizer object:"
      ]
    },
    {
      "cell_type": "code",
      "execution_count": null,
      "metadata": {
        "id": "qCzrWnr3p9-V"
      },
      "outputs": [],
      "source": [
        "from transformers import GPT2TokenizerFast\n",
        "\n",
        "new_tokenizer = GPT2TokenizerFast(tokenizer_object=tokenizer)"
      ]
    },
    {
      "cell_type": "markdown",
      "metadata": {
        "id": "KydxMcMhp9-V"
      },
      "source": [
        "### Unigram model like Albert"
      ]
    },
    {
      "cell_type": "markdown",
      "metadata": {
        "id": "Ypk5umd6p9-V"
      },
      "source": [
        "Let's now have a look at how we can create a Unigram tokenizer like the one used for training T5. The first step is to create a `Tokenizer` with an empty `Unigram` model:"
      ]
    },
    {
      "cell_type": "code",
      "execution_count": null,
      "metadata": {
        "id": "fnjqVBKYp9-W"
      },
      "outputs": [],
      "source": [
        "tokenizer = Tokenizer(models.Unigram())"
      ]
    },
    {
      "cell_type": "markdown",
      "metadata": {
        "id": "JskGAUXJp9-W"
      },
      "source": [
        "Like before, we have to add the optional normalization (here some replaces and lower-casing) and we need to specify a pre-tokenizer before training. The pre-tokenizer used is a `Metaspace` pre-tokenizer: it replaces all spaces by a special character (defaulting to ▁) and then splits on that character."
      ]
    },
    {
      "cell_type": "code",
      "execution_count": null,
      "metadata": {
        "id": "fs1N-34op9-W"
      },
      "outputs": [],
      "source": [
        "tokenizer.normalizer = normalizers.Sequence(\n",
        "    [normalizers.Replace(\"``\", '\"'), normalizers.Replace(\"''\", '\"'), normalizers.Lowercase()]\n",
        ")\n",
        "tokenizer.pre_tokenizer = pre_tokenizers.Metaspace()"
      ]
    },
    {
      "cell_type": "markdown",
      "metadata": {
        "id": "NhU4DvJqp9-W"
      },
      "source": [
        "If we want to have a quick look at how it preprocesses the inputs, we can call the `pre_tokenize_str` method:"
      ]
    },
    {
      "cell_type": "code",
      "execution_count": null,
      "metadata": {
        "id": "-gpsKNcHp9-W"
      },
      "outputs": [],
      "source": [
        "tokenizer.pre_tokenizer.pre_tokenize_str(\"This is an example!\")"
      ]
    },
    {
      "cell_type": "markdown",
      "metadata": {
        "id": "rRlaf2t1p9-W"
      },
      "source": [
        "You can see that each word gets an initial `▁` added at the beginning, as is usually done by sentencepiece.\n",
        "\n",
        "We can now train our tokenizer! This time we use a `UnigramTrainer`.\"We have to explicitely set the unknown token in this trainer otherwise it will forget it afterward."
      ]
    },
    {
      "cell_type": "code",
      "execution_count": null,
      "metadata": {
        "id": "x39GtATxp9-W"
      },
      "outputs": [],
      "source": [
        "trainer = trainers.UnigramTrainer(vocab_size=25000, special_tokens=[\"[CLS]\", \"[SEP]\", \"<unk>\", \"<pad>\", \"[MASK]\"], unk_token=\"<unk>\")\n",
        "tokenizer.train_from_iterator(batch_iterator(), trainer=trainer)"
      ]
    },
    {
      "cell_type": "markdown",
      "metadata": {
        "id": "9EPGEKcup9-W"
      },
      "source": [
        "To finish the whole pipeline, we have to include the post-processor and decoder. The post-processor is very similar to what we saw with BERT, the decoder is just `Metaspace`, like for the pre-tokenizer."
      ]
    },
    {
      "cell_type": "code",
      "execution_count": null,
      "metadata": {
        "id": "id9c7g1yp9-W"
      },
      "outputs": [],
      "source": [
        "cls_token_id = tokenizer.token_to_id(\"[CLS]\")\n",
        "sep_token_id = tokenizer.token_to_id(\"[SEP]\")"
      ]
    },
    {
      "cell_type": "code",
      "execution_count": null,
      "metadata": {
        "id": "On6uNXzHp9-W"
      },
      "outputs": [],
      "source": [
        "tokenizer.post_processor = processors.TemplateProcessing(\n",
        "    single=\"[CLS]:0 $A:0 [SEP]:0\",\n",
        "    pair=\"[CLS]:0 $A:0 [SEP]:0 $B:1 [SEP]:1\",\n",
        "    special_tokens=[\n",
        "        (\"[CLS]\", cls_token_id),\n",
        "        (\"[SEP]\", sep_token_id),\n",
        "    ],\n",
        ")\n",
        "tokenizer.decoder = decoders.Metaspace()"
      ]
    },
    {
      "cell_type": "markdown",
      "metadata": {
        "id": "s5c7w9P8p9-W"
      },
      "source": [
        "And like before, we finish by wrapping this in a Transformers tokenizer object:"
      ]
    },
    {
      "cell_type": "code",
      "execution_count": null,
      "metadata": {
        "id": "5BxpWqGzp9-W"
      },
      "outputs": [],
      "source": [
        "from transformers import AlbertTokenizerFast\n",
        "\n",
        "new_tokenizer = AlbertTokenizerFast(tokenizer_object=tokenizer)"
      ]
    },
    {
      "cell_type": "markdown",
      "metadata": {
        "id": "p4ImTy5rp9-W"
      },
      "source": [
        "## Use your new tokenizer to train a language model!"
      ]
    },
    {
      "cell_type": "markdown",
      "metadata": {
        "id": "hOhn33Mpp9-X"
      },
      "source": [
        "You can either use your new tokenizer in the language modeling from scratch notebook [Link to come] or use the `--tokenizer_name` argument in the [language modeling scripts](https://github.com/huggingface/transformers/tree/master/examples/pytorch/language-modeling) to use it there to train a model from scratch."
      ]
    },
    {
      "cell_type": "code",
      "execution_count": null,
      "metadata": {
        "id": "PxR2DPhap9-X"
      },
      "outputs": [],
      "source": []
    }
  ],
  "metadata": {
    "colab": {
      "provenance": [],
      "collapsed_sections": [
        "qjoz7fI-p9-R",
        "TeG516Ipp9-U",
        "KydxMcMhp9-V"
      ]
    },
    "language_info": {
      "name": "python"
    },
    "kernelspec": {
      "name": "python3",
      "display_name": "Python 3"
    },
    "gpuClass": "standard"
  },
  "nbformat": 4,
  "nbformat_minor": 0
}