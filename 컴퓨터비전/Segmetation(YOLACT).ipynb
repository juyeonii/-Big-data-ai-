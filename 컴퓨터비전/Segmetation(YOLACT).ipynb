{
 "cells": [
  {
   "cell_type": "markdown",
   "metadata": {
    "pycharm": {
     "name": "#%% md\n"
    }
   },
   "source": [
    "# YOLACT Implementation\n",
    "- [yolact github](https://github.com/dbolya/yolact)"
   ]
  },
  {
   "cell_type": "markdown",
   "metadata": {
    "pycharm": {
     "name": "#%% md\n"
    }
   },
   "source": [
    "## 1) Install Packages"
   ]
  },
  {
   "cell_type": "markdown",
   "metadata": {
    "pycharm": {
     "name": "#%% md\n"
    }
   },
   "source": [
    "### ■ Install Prerequisite Packages"
   ]
  },
  {
   "cell_type": "code",
   "execution_count": null,
   "metadata": {
    "pycharm": {
     "name": "#%%\n"
    }
   },
   "outputs": [],
   "source": [
    "# --- install Requirement pacakages \n",
    "# - install conda pacakges\n",
    "!conda install --name cv_edu3 --file requirements.txt\n",
    "\n",
    "# - install pip pacakges\n",
    "!pip install pycocotools"
   ]
  }
 ],
 "metadata": {
  "kernelspec": {
   "display_name": "cv_edu3",
   "language": "python",
   "name": "cv_edu3"
  },
  "language_info": {
   "codemirror_mode": {
    "name": "ipython",
    "version": 3
   },
   "file_extension": ".py",
   "mimetype": "text/x-python",
   "name": "python",
   "nbconvert_exporter": "python",
   "pygments_lexer": "ipython3",
   "version": "3.8.13"
  }
 },
 "nbformat": 4,
 "nbformat_minor": 4
}
