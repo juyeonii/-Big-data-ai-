{
 "cells": [
  {
   "cell_type": "markdown",
   "id": "c9521b1a-40d2-4830-a310-a371432eab20",
   "metadata": {},
   "source": [
    "# < Face Recognition Setting >"
   ]
  },
  {
   "cell_type": "markdown",
   "id": "7a794947-06f5-48e9-aa0d-856230e187e7",
   "metadata": {},
   "source": [
    "## 1) Install DeepFace"
   ]
  },
  {
   "cell_type": "code",
   "execution_count": null,
   "id": "bb054367-aa42-42bd-9326-1fc928c59232",
   "metadata": {},
   "outputs": [],
   "source": [
    "!pip install deepface"
   ]
  },
  {
   "cell_type": "markdown",
   "id": "9d53f8a2-82b1-4e67-aae0-d50a99f75250",
   "metadata": {},
   "source": [
    "## 2) Uninstall Tensorflow Latest Version & Install 2.4.1"
   ]
  },
  {
   "cell_type": "code",
   "execution_count": null,
   "id": "2f41515b-e6a2-4c01-8231-a1daa4de32a7",
   "metadata": {},
   "outputs": [],
   "source": [
    "!pip uninstall tensorflow -y"
   ]
  },
  {
   "cell_type": "markdown",
   "id": "acdd910e-17e1-42e1-83e7-d47e99706a10",
   "metadata": {},
   "source": [
    "## 3) Install CUDATOOLKIT & cuDNN & Tensorflow-gpu 2.4.1"
   ]
  },
  {
   "cell_type": "code",
   "execution_count": null,
   "id": "787cacf9-748c-4a5b-85bb-4754f2f2b644",
   "metadata": {},
   "outputs": [],
   "source": [
    "!conda install -c conda-forge cudatoolkit=11.0 cudnn=8.0 -y"
   ]
  },
  {
   "cell_type": "code",
   "execution_count": null,
   "id": "2c1b5770-9f84-4939-8212-0932865ea950",
   "metadata": {},
   "outputs": [],
   "source": [
    "!pip install tensorflow-gpu==2.4.1"
   ]
  },
  {
   "cell_type": "markdown",
   "id": "1c9aac7c-3609-4f8e-b76c-78f0c0642bd3",
   "metadata": {},
   "source": [
    "## 4) Install other packages"
   ]
  },
  {
   "cell_type": "code",
   "execution_count": null,
   "id": "9d6c09d3-e053-4ae4-92f4-87a268898107",
   "metadata": {},
   "outputs": [],
   "source": [
    "!conda install matplotlib -y"
   ]
  },
  {
   "cell_type": "code",
   "execution_count": null,
   "id": "b301f230-d9ac-4408-9364-c77a0e1350cb",
   "metadata": {},
   "outputs": [],
   "source": [
    "!pip install silence_tensorflow"
   ]
  },
  {
   "cell_type": "markdown",
   "id": "0a2ceafe-525a-421f-af7b-d4815dcafc05",
   "metadata": {},
   "source": [
    "## 5) Check Tensorflow GPU"
   ]
  },
  {
   "cell_type": "code",
   "execution_count": null,
   "id": "5884d7c6-1dc4-465d-bcad-52be3ebb3b72",
   "metadata": {},
   "outputs": [],
   "source": [
    "import tensorflow as tf"
   ]
  },
  {
   "cell_type": "code",
   "execution_count": null,
   "id": "d1ca2a8a-be90-46c2-98ef-daf04540243a",
   "metadata": {},
   "outputs": [],
   "source": [
    "tf.__version__"
   ]
  },
  {
   "cell_type": "code",
   "execution_count": null,
   "id": "3e4a7c22-9137-40ec-9b24-61ab0a51f925",
   "metadata": {},
   "outputs": [],
   "source": [
    "from tensorflow.python.client import device_lib\n",
    "device_lib.list_local_devices()"
   ]
  },
  {
   "cell_type": "markdown",
   "id": "ddaaa88d-4256-45fb-91fc-ff735417142a",
   "metadata": {},
   "source": [
    "## 5) Check Deep Face import"
   ]
  },
  {
   "cell_type": "code",
   "execution_count": null,
   "id": "bdd2bd80-8037-4dfc-b711-b55c68030802",
   "metadata": {},
   "outputs": [],
   "source": [
    "from deepface import DeepFace"
   ]
  },
  {
   "cell_type": "code",
   "execution_count": null,
   "id": "83966aa1-5138-469d-b3a1-5a7b04eba551",
   "metadata": {},
   "outputs": [],
   "source": []
  }
 ],
 "metadata": {
  "kernelspec": {
   "display_name": "cv_edu2",
   "language": "python",
   "name": "cv_edu2"
  },
  "language_info": {
   "codemirror_mode": {
    "name": "ipython",
    "version": 3
   },
   "file_extension": ".py",
   "mimetype": "text/x-python",
   "name": "python",
   "nbconvert_exporter": "python",
   "pygments_lexer": "ipython3",
   "version": "3.8.13"
  }
 },
 "nbformat": 4,
 "nbformat_minor": 5
}
