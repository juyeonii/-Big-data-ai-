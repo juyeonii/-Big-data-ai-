{
 "cells": [
  {
   "cell_type": "markdown",
   "id": "d079fa2f-4085-4872-b3a2-3f11737a04bc",
   "metadata": {
    "tags": []
   },
   "source": [
    "# < Facial Verification >"
   ]
  },
  {
   "cell_type": "markdown",
   "id": "d08f7ad0-79aa-489e-addb-e5648f86b79f",
   "metadata": {
    "tags": []
   },
   "source": [
    "- https://github.com/serengil/deepface"
   ]
  },
  {
   "cell_type": "markdown",
   "id": "fb500093-a535-491b-a1a3-f4eb40764a14",
   "metadata": {},
   "source": [
    "&nbsp; &nbsp; &nbsp; &nbsp; &nbsp; &nbsp;  &nbsp; &nbsp; &nbsp;&nbsp; &nbsp;&nbsp; &nbsp; &nbsp; &nbsp; &nbsp; &nbsp; \n",
    "&nbsp; &nbsp; &nbsp; &nbsp; &nbsp; &nbsp; &nbsp; &nbsp; &nbsp; &nbsp; &nbsp; &nbsp; &nbsp; &nbsp; &nbsp; &nbsp; &nbsp; \n",
    "&nbsp; &nbsp; &nbsp; &nbsp; &nbsp; &nbsp; &nbsp; &nbsp; &nbsp; &nbsp; &nbsp; &nbsp; &nbsp; &nbsp; &nbsp; &nbsp; &nbsp; \n",
    "![deep_face](./data/jupyter_image/deepface.jpg)"
   ]
  },
  {
   "cell_type": "markdown",
   "id": "fac8ad86-7028-470f-b31f-764dbde62c79",
   "metadata": {},
   "source": [
    "- **Tensorflow/Keras** 기반 얼굴 인식 시스템\n",
    "- VGG-Face, Facenet, OpenFace, ArcFace 등 다양한 얼굴 인식 모델 사용 가능\n",
    "- opencv, ssd, dlib, mtcnn, retinaface, mediapipe 등 다양한 얼굴 검출 모델 사용 가능\n",
    "- 감정, 나이 등의 얼굴 속성까지 구분 가능"
   ]
  },
  {
   "cell_type": "code",
   "execution_count": null,
   "id": "6fd5683f-83c1-4af9-aaba-c17e361df74b",
   "metadata": {},
   "outputs": [],
   "source": [
    "import cv2\n",
    "import pandas as pd\n",
    "from matplotlib import pyplot as plt\n",
    "from deepface import DeepFace\n",
    "from deepface.commons import functions, realtime, distance as dst"
   ]
  },
  {
   "cell_type": "code",
   "execution_count": null,
   "id": "1728ce79-e342-4bda-b2f7-4429eb7b3af6",
   "metadata": {},
   "outputs": [],
   "source": [
    "# Prevent GPU Memory Error\n",
    "import tensorflow as tf\n",
    "from tensorflow.compat.v1 import ConfigProto, Session\n",
    "from tensorflow.compat.v1.keras.backend import set_session\n",
    "config = ConfigProto()\n",
    "config.gpu_options.per_process_gpu_memory_fraction =0.3 #GPU 메모리 사용을 30%로 제한\n",
    "session = Session(config=config)\n",
    "set_session(session)"
   ]
  },
  {
   "cell_type": "markdown",
   "id": "bc1e724a-93ea-4a23-a3ce-0d451c3020d1",
   "metadata": {},
   "source": [
    "&nbsp; &nbsp; &nbsp; &nbsp; &nbsp; &nbsp;  &nbsp; &nbsp; &nbsp;&nbsp; &nbsp;&nbsp; &nbsp; &nbsp; &nbsp; &nbsp; &nbsp; \n",
    "&nbsp; &nbsp; &nbsp; &nbsp; &nbsp; &nbsp; &nbsp; &nbsp; &nbsp; &nbsp; &nbsp; &nbsp; &nbsp; &nbsp; &nbsp; &nbsp; &nbsp; \n",
    "&nbsp; &nbsp; &nbsp; &nbsp; &nbsp; &nbsp; &nbsp; &nbsp; &nbsp; &nbsp; &nbsp; &nbsp; &nbsp; &nbsp; &nbsp; &nbsp; &nbsp; \n",
    "![deep_face_models](./data/jupyter_image/deepface_models.jpg)"
   ]
  },
  {
   "cell_type": "code",
   "execution_count": null,
   "id": "a3d3204a-6cd3-49db-9d98-ded04ccffe05",
   "metadata": {},
   "outputs": [],
   "source": [
    "models = [\n",
    "  \"VGG-Face\", #0\n",
    "  \"Facenet\", #1\n",
    "  \"Facenet512\", #2 \n",
    "  \"OpenFace\", #3\n",
    "  \"DeepFace\", #4\n",
    "  \"DeepID\", #5\n",
    "  \"ArcFace\", #6 (Use)\n",
    "  \"Dlib\", #7\n",
    "  \"SFace\", #8\n",
    "]"
   ]
  },
  {
   "cell_type": "code",
   "execution_count": null,
   "id": "7e1804ad-43ed-4ecb-9253-f7ffa7fe10b0",
   "metadata": {},
   "outputs": [],
   "source": [
    "metrics = [\n",
    "    \"cosine\", #0 (Use)\n",
    "    \"euclidean\", #1 \n",
    "    \"euclidean_l2\" #2\n",
    "]"
   ]
  },
  {
   "cell_type": "markdown",
   "id": "173f21a1-f19d-4a69-a9e9-aa136c5c706c",
   "metadata": {},
   "source": [
    "&nbsp; &nbsp; &nbsp; &nbsp; &nbsp; &nbsp;  &nbsp; &nbsp; &nbsp;&nbsp; &nbsp;&nbsp; &nbsp; &nbsp; &nbsp; &nbsp; &nbsp; \n",
    "&nbsp; &nbsp; &nbsp; &nbsp; &nbsp; &nbsp; &nbsp; &nbsp; &nbsp; &nbsp; &nbsp; &nbsp; &nbsp; &nbsp; &nbsp; &nbsp; &nbsp; \n",
    "&nbsp; &nbsp; &nbsp; &nbsp; &nbsp; &nbsp; &nbsp; &nbsp; &nbsp; &nbsp; &nbsp; &nbsp; &nbsp; &nbsp; &nbsp; &nbsp; &nbsp; \n",
    "![deep_face_detectors](./data/jupyter_image/deepface_detectors.jpg)"
   ]
  },
  {
   "cell_type": "code",
   "execution_count": null,
   "id": "cfb271ce-0b8e-43aa-8e96-e85a67b270b6",
   "metadata": {},
   "outputs": [],
   "source": [
    "detector_backends = [\n",
    "    'opencv', #0\n",
    "    'ssd', #1\n",
    "    'dlib', #2\n",
    "    'mtcnn', #3\n",
    "    'retinaface', #4 (Use)\n",
    "    'mediapipe' #5\n",
    "]"
   ]
  },
  {
   "cell_type": "code",
   "execution_count": null,
   "id": "abb01b59-a989-4cab-b027-1d1cc0ed47db",
   "metadata": {},
   "outputs": [],
   "source": [
    "def plotTwoImg(img1, img2, img1_title, img2_title, figsize=(10,10)) :\n",
    "    #Plot Two Image\n",
    "    fig = plt.figure(figsize=figsize)\n",
    "    ax1 = fig.add_subplot(2,2,1)\n",
    "    ax2 = fig.add_subplot(2,1,1)\n",
    "    ax1.imshow(img1)\n",
    "    ax2.imshow(img2)\n",
    "    ax1.set_title(img1_title)\n",
    "    ax2.set_title(img2_title)\n",
    "    plt.show()"
   ]
  },
  {
   "cell_type": "markdown",
   "id": "38c6bb86-4331-4b04-a2f9-33d639ebefed",
   "metadata": {},
   "source": [
    "# 1. Face Verification - Manual"
   ]
  },
  {
   "cell_type": "code",
   "execution_count": null,
   "id": "8ab20ac8-88cd-4140-9b34-9fd179eb4129",
   "metadata": {},
   "outputs": [],
   "source": [
    "def verificationByDistance(distance) :\n",
    "    if distance <= 0.68 : # When use ArcFace\n",
    "        return \"same\"\n",
    "    else :\n",
    "        return \"different\""
   ]
  },
  {
   "cell_type": "markdown",
   "id": "d1ff932f-c7c5-4516-98e7-889a563c3083",
   "metadata": {},
   "source": [
    "## 1) Use Face Detector & Extract Embeddings"
   ]
  },
  {
   "cell_type": "markdown",
   "id": "ea44e6b7-a498-4160-b6ee-dfcecbe4bce5",
   "metadata": {},
   "source": [
    "### (1) Different Person"
   ]
  },
  {
   "cell_type": "markdown",
   "id": "86416d03-ca0d-4553-a8d6-fafe90a7b9ca",
   "metadata": {},
   "source": [
    "- **Read & Check Original Image** "
   ]
  },
  {
   "cell_type": "code",
   "execution_count": null,
   "id": "3361f0c6-9cac-4bb9-a86d-209ccf59f4b1",
   "metadata": {},
   "outputs": [],
   "source": [
    "img1_path = './data/verification/'\n",
    "img2_path = './data/verification/'\n",
    "\n",
    "img1_name = 'BlackPink_Jenny.jpg'\n",
    "img2_name = 'BlackPink_JiSoo.jpg'"
   ]
  },
  {
   "cell_type": "code",
   "execution_count": null,
   "id": "c863e85a-5844-40d9-a9af-e19e71449343",
   "metadata": {},
   "outputs": [],
   "source": [
    "img1 = cv2.cvtColor(cv2.imread(img1_path + img1_name),cv2.COLOR_BGR2RGB)\n",
    "img2 = cv2.cvtColor(cv2.imread(img2_path + img2_name),cv2.COLOR_BGR2RGB)\n",
    "plotTwoImg(img1, img2 ,img1_name, img2_name, (17,8))"
   ]
  },
  {
   "cell_type": "markdown",
   "id": "11f9729a-f5ea-4fa5-b27b-5b8811ee60a3",
   "metadata": {},
   "source": [
    "**Detect Face (2-Images)**"
   ]
  },
  {
   "cell_type": "markdown",
   "id": "ea57e695-45bf-4588-ac0f-b0e792b60818",
   "metadata": {},
   "source": [
    "> **Use Below Function**\n",
    "\n",
    "        DeepFace.detectFace(\n",
    "            img_path = ''\n",
    "            target_size = (N,N)\n",
    "            detector_backend = ''\n",
    "        )"
   ]
  },
  {
   "cell_type": "code",
   "execution_count": null,
   "id": "245ef029-67f3-4747-88de-14a2baf11a3f",
   "metadata": {},
   "outputs": [],
   "source": [
    "img1_face = DeepFace.detectFace(\n",
    "    img_path = img1_path + img1_name, \n",
    "    target_size = (112,112), #ArcFace Input Size\n",
    "    detector_backend = detector_backends[4] #RetinaFace\n",
    ") \n",
    "\n",
    "img2_face = DeepFace.detectFace(\n",
    "    img_path = img2_path + img2_name, \n",
    "    target_size = (112,112), #ArcFace Input Size\n",
    "    detector_backend = detector_backends[4] #RetinaFace\n",
    ")"
   ]
  },
  {
   "cell_type": "markdown",
   "id": "4e2fc0df-483e-42dc-866c-4af4769cdb3a",
   "metadata": {},
   "source": [
    "- **Check Detected Image Results**"
   ]
  },
  {
   "cell_type": "code",
   "execution_count": null,
   "id": "ceb80e03-94ff-4c40-a97a-7e730b8b6807",
   "metadata": {
    "tags": []
   },
   "outputs": [],
   "source": [
    "plotTwoImg(img1_face, img2_face , img1_name, img2_name, (12,5))"
   ]
  },
  {
   "cell_type": "markdown",
   "id": "dcda11fb-a5f8-420f-ae57-bb17c43637b8",
   "metadata": {},
   "source": [
    "- **Extract Face Feature Map from each image**"
   ]
  },
  {
   "cell_type": "markdown",
   "id": "a130edc8-956f-427a-956c-0e9e75f331f6",
   "metadata": {},
   "source": [
    "> **Use Below Function**\n",
    "\n",
    "        DeepFace.represent(\n",
    "            img_path = '' or numpy.array(BGR)\n",
    "            enforce_detection = True/False,\n",
    "            detector_backend = ''\n",
    "            model_name = ''\n",
    "            align = True/False\n",
    "            normalization = 'base' / 'raw' / 'Facenet' / 'Facenet2018' / 'VGGFace' / 'VGGFace2' / 'ArcFace'\n",
    "        )"
   ]
  },
  {
   "cell_type": "code",
   "execution_count": null,
   "id": "559a52c3-61cb-4ce1-8336-fd75e6d5fb31",
   "metadata": {},
   "outputs": [],
   "source": [
    "img1 = cv2.cvtColor(img1,cv2.COLOR_RGB2BGR)\n",
    "img2 = cv2.cvtColor(img2,cv2.COLOR_RGB2BGR)"
   ]
  },
  {
   "cell_type": "code",
   "execution_count": null,
   "id": "afe9d7f7-2004-40cd-92ff-4b951aab1893",
   "metadata": {
    "tags": []
   },
   "outputs": [],
   "source": [
    "img1_Facefeature = DeepFace.represent(\n",
    "    img_path = img1,\n",
    "    enforce_detection = True,\n",
    "    detector_backend = detector_backends[4], #RetinaFace\n",
    "    model_name = models[6], #ArcFace\n",
    "    align = True,\n",
    "    normalization = 'ArcFace'\n",
    ")\n",
    "\n",
    "img2_Facefeature = DeepFace.represent(\n",
    "    img_path = img2,\n",
    "    enforce_detection = True,\n",
    "    detector_backend = detector_backends[4], #RetinaFace\n",
    "    model_name = models[6], #ArcFace\n",
    "    align = True,\n",
    "    normalization = 'ArcFace'\n",
    ")"
   ]
  },
  {
   "cell_type": "markdown",
   "id": "db27d0e2-2b03-40e7-b8c0-0c30d7f70625",
   "metadata": {},
   "source": [
    "- **Calculate distance by Feature Maps**"
   ]
  },
  {
   "cell_type": "code",
   "execution_count": null,
   "id": "21398221-d976-4d1b-b56d-394340901442",
   "metadata": {},
   "outputs": [],
   "source": [
    "distance = dst.findCosineDistance(img1_Facefeature, img2_Facefeature)"
   ]
  },
  {
   "cell_type": "code",
   "execution_count": null,
   "id": "9e40d9f0-cd17-4e76-8832-ade8ae35a51c",
   "metadata": {},
   "outputs": [],
   "source": [
    "distance"
   ]
  },
  {
   "cell_type": "markdown",
   "id": "b87d83e8-c5dd-41b0-891d-2d9ed9232179",
   "metadata": {},
   "source": [
    "- **Verification by Distance**"
   ]
  },
  {
   "cell_type": "code",
   "execution_count": null,
   "id": "35d5f782-56c1-4624-a565-c16b534b8acf",
   "metadata": {},
   "outputs": [],
   "source": [
    "verificationByDistance(distance)"
   ]
  },
  {
   "cell_type": "markdown",
   "id": "7a567c82-acdd-429b-9887-a75fa346ba5f",
   "metadata": {},
   "source": [
    "### (2) Same Person"
   ]
  },
  {
   "cell_type": "markdown",
   "id": "1ecf0ea9-208e-40c7-8b19-8a7eeb55ed10",
   "metadata": {},
   "source": [
    "- **Read & Check Original Image**"
   ]
  },
  {
   "cell_type": "code",
   "execution_count": null,
   "id": "4698f564-d6b4-4bdf-a7b3-3c2624899522",
   "metadata": {},
   "outputs": [],
   "source": [
    "img1_path = './data/verification/'\n",
    "img2_path = './data/verification/'\n",
    "\n",
    "img1_name = 'BTS_V_1.jpg'\n",
    "img2_name = 'BTS_V_2.jpg'"
   ]
  },
  {
   "cell_type": "code",
   "execution_count": null,
   "id": "4c7ee108-d44f-4da1-ad98-619ad5316753",
   "metadata": {},
   "outputs": [],
   "source": [
    "img1 = cv2.cvtColor(cv2.imread(img1_path + img1_name),cv2.COLOR_BGR2RGB)\n",
    "img2 = cv2.cvtColor(cv2.imread(img2_path + img2_name),cv2.COLOR_BGR2RGB)\n",
    "plotTwoImg(img1, img2 ,img1_name, img2_name, (17,8))"
   ]
  },
  {
   "cell_type": "markdown",
   "id": "87c822df-bc25-4b3b-8bce-3cfb1a464521",
   "metadata": {},
   "source": [
    "- **Detect Face image(2-Images)**"
   ]
  },
  {
   "cell_type": "code",
   "execution_count": null,
   "id": "86e2ba66-b449-405e-a103-2dbad2842fce",
   "metadata": {},
   "outputs": [],
   "source": [
    "img1_face = DeepFace.detectFace(\n",
    "    img_path = img1_path + img1_name, \n",
    "    target_size = (112,112), #ArcFace Input Size\n",
    "    detector_backend = detector_backends[4] #RetinaFace\n",
    ") \n",
    "\n",
    "img2_face = DeepFace.detectFace(\n",
    "    img_path = img2_path + img2_name, \n",
    "    target_size = (112,112), #ArcFace Input Size\n",
    "    detector_backend = detector_backends[4] #RetinaFace\n",
    ")"
   ]
  },
  {
   "cell_type": "markdown",
   "id": "eb9a4ce6-6488-4b69-b41e-a1cb7dd53a8a",
   "metadata": {},
   "source": [
    "- **Check Detected Image Results**"
   ]
  },
  {
   "cell_type": "code",
   "execution_count": null,
   "id": "46219c79-4aa8-44ba-a6e2-2fb71da7f12b",
   "metadata": {},
   "outputs": [],
   "source": [
    "plotTwoImg(img1_face, img2_face , img1_name, img2_name, (12,5))"
   ]
  },
  {
   "cell_type": "markdown",
   "id": "eefb4964-f35f-4c3f-8538-ff72a065eeea",
   "metadata": {},
   "source": [
    "- **Extract Face Feature Map from each image**"
   ]
  },
  {
   "cell_type": "code",
   "execution_count": null,
   "id": "fb715aa8-fa54-4a3c-b648-f6a77103005c",
   "metadata": {},
   "outputs": [],
   "source": [
    "img1_Facefeature = DeepFace.represent(\n",
    "    img_path = img1,\n",
    "    enforce_detection = True,\n",
    "    detector_backend = detector_backends[4], #RetinaFace\n",
    "    model_name = models[6], #ArcFace\n",
    "    align = True,\n",
    "    normalization = 'ArcFace'\n",
    ")\n",
    "\n",
    "img2_Facefeature = DeepFace.represent(\n",
    "    img_path = img2,\n",
    "    enforce_detection = True,\n",
    "    detector_backend = detector_backends[4], #RetinaFace\n",
    "    model_name = models[6], #ArcFace\n",
    "    align = True,\n",
    "    normalization = 'ArcFace'\n",
    ")"
   ]
  },
  {
   "cell_type": "markdown",
   "id": "f694f18e-dbfa-40cb-850f-df63b3edfe2a",
   "metadata": {},
   "source": [
    "- **Calculate distance by Feature Maps**"
   ]
  },
  {
   "cell_type": "code",
   "execution_count": null,
   "id": "d771218b-0333-4015-8246-5eeec9d7aa1a",
   "metadata": {},
   "outputs": [],
   "source": [
    "distance = dst.findCosineDistance(img1_Facefeature, img2_Facefeature)"
   ]
  },
  {
   "cell_type": "code",
   "execution_count": null,
   "id": "dca6d47d-ec6b-440c-b40f-1353ccb34f87",
   "metadata": {},
   "outputs": [],
   "source": [
    "distance"
   ]
  },
  {
   "cell_type": "markdown",
   "id": "f97487a4-1bf1-430d-9a96-fc0b6f95d9b0",
   "metadata": {},
   "source": [
    "- **Verification by Distance**"
   ]
  },
  {
   "cell_type": "code",
   "execution_count": null,
   "id": "b82f4648-cf00-477f-a9bf-96ca98318343",
   "metadata": {},
   "outputs": [],
   "source": [
    "verificationByDistance(distance)"
   ]
  },
  {
   "cell_type": "markdown",
   "id": "f783dfca-cb40-496d-89d3-73d5a9fded14",
   "metadata": {},
   "source": [
    "### (3) Similar Person"
   ]
  },
  {
   "cell_type": "markdown",
   "id": "1ecf6305-cef1-4cf9-9a62-15d8f8ffad8d",
   "metadata": {},
   "source": [
    "- **Read & Check Original Image** "
   ]
  },
  {
   "cell_type": "code",
   "execution_count": null,
   "id": "f1c0c78e-a706-4925-a00f-06d9cab3df12",
   "metadata": {},
   "outputs": [],
   "source": [
    "img1_path = './data/verification/'\n",
    "img2_path = './data/verification/'\n",
    "\n",
    "img1_name = 'JangKeunSuk.jpg'\n",
    "img2_name = 'LeeHongGi.jpg'"
   ]
  },
  {
   "cell_type": "code",
   "execution_count": null,
   "id": "0ab866ae-304b-4152-bae2-72e54cdafeea",
   "metadata": {},
   "outputs": [],
   "source": [
    "img1 = cv2.cvtColor(cv2.imread(img1_path + img1_name),cv2.COLOR_BGR2RGB)\n",
    "img2 = cv2.cvtColor(cv2.imread(img2_path + img2_name),cv2.COLOR_BGR2RGB)\n",
    "plotTwoImg(img1, img2 ,img1_name, img2_name, (17,8))"
   ]
  },
  {
   "cell_type": "markdown",
   "id": "f0e53560-cd95-4bd0-b989-205a7b953074",
   "metadata": {},
   "source": [
    "- **Detect Face (2-Images)**"
   ]
  },
  {
   "cell_type": "code",
   "execution_count": null,
   "id": "dc82b9e8-80de-427c-9c8b-7992b8ac17b1",
   "metadata": {},
   "outputs": [],
   "source": [
    "#TO DO - Detect 2 Images\n",
    "img1_face = \n",
    "\n",
    "\n",
    "\n",
    "\n",
    "\n",
    "\n",
    "img2_face = \n",
    "\n",
    "\n",
    "\n",
    "\n",
    "\n",
    "\n"
   ]
  },
  {
   "cell_type": "markdown",
   "id": "2466cc25-3108-48ff-ae09-859f3d6969a4",
   "metadata": {},
   "source": [
    "- **Check Detected Image Results**"
   ]
  },
  {
   "cell_type": "code",
   "execution_count": null,
   "id": "221fc8ec-77f9-4472-8796-341b2b11962b",
   "metadata": {},
   "outputs": [],
   "source": [
    "plotTwoImg(img1_face, img2_face , img1_name, img2_name, (12,5))"
   ]
  },
  {
   "cell_type": "markdown",
   "id": "ca4767fe-4d1a-413f-998a-614acdab5eaa",
   "metadata": {},
   "source": [
    "- **Extract Face Feature Map from each image**"
   ]
  },
  {
   "cell_type": "code",
   "execution_count": null,
   "id": "b1f5389f-da9b-4f93-a062-d886815bf7e5",
   "metadata": {
    "tags": []
   },
   "outputs": [],
   "source": [
    "#TO DO Extract Feature\n",
    "img1_Facefeature = \n",
    "\n",
    "\n",
    "\n",
    "\n",
    "\n",
    "\n",
    "\n",
    "\n",
    "img2_Facefeature = \n",
    "\n",
    "\n",
    "\n",
    "\n",
    "\n",
    "\n",
    "\n"
   ]
  },
  {
   "cell_type": "markdown",
   "id": "0eee81d9-3261-41cd-b2f4-f3ab45b0f8ba",
   "metadata": {},
   "source": [
    "- **Calculate distance by Feature Maps**"
   ]
  },
  {
   "cell_type": "code",
   "execution_count": null,
   "id": "f09416bb-3b7a-4949-80cf-8b896ce68e1f",
   "metadata": {},
   "outputs": [],
   "source": [
    "# TO DO - Calculate Distance\n",
    "distance = "
   ]
  },
  {
   "cell_type": "code",
   "execution_count": null,
   "id": "3e640dca-4b43-4a6c-a322-da08225274b8",
   "metadata": {},
   "outputs": [],
   "source": [
    "distance"
   ]
  },
  {
   "cell_type": "markdown",
   "id": "ed1cd8b7-f6f0-427e-897a-8ae1634eb1f5",
   "metadata": {},
   "source": [
    "- **Verification by Distance**"
   ]
  },
  {
   "cell_type": "code",
   "execution_count": null,
   "id": "53bb2ccd-559b-4bd0-88b9-18244355edd9",
   "metadata": {},
   "outputs": [],
   "source": [
    "#TO DO - Verification\n"
   ]
  },
  {
   "cell_type": "markdown",
   "id": "0225d363-6197-4b4c-a323-61dac0a91932",
   "metadata": {},
   "source": [
    "### (4) Twin"
   ]
  },
  {
   "cell_type": "markdown",
   "id": "50d6319e-471f-4867-b36b-cf70895ef233",
   "metadata": {},
   "source": [
    "- **Read & Check Original Image** "
   ]
  },
  {
   "cell_type": "code",
   "execution_count": null,
   "id": "eb323a4c-ba4c-4116-b5d8-ce2ebac7a0fe",
   "metadata": {},
   "outputs": [],
   "source": [
    "img1_path = './data/verification/'\n",
    "img2_path = './data/verification/'\n",
    "\n",
    "img1_name = 'Fred_Widsley.jpg'\n",
    "img2_name = 'George_Widsley.jpg'"
   ]
  },
  {
   "cell_type": "code",
   "execution_count": null,
   "id": "e6676a52-4206-416f-853f-1aa570be176f",
   "metadata": {},
   "outputs": [],
   "source": [
    "img1 = cv2.cvtColor(cv2.imread(img1_path + img1_name),cv2.COLOR_BGR2RGB)\n",
    "img2 = cv2.cvtColor(cv2.imread(img2_path + img2_name),cv2.COLOR_BGR2RGB)\n",
    "plotTwoImg(img1, img2 ,img1_name, img2_name, (17,8))"
   ]
  },
  {
   "cell_type": "markdown",
   "id": "8160d50e-dfd9-47f0-86e7-523fee2c0ff8",
   "metadata": {},
   "source": [
    "- **Detect Face (2-Images)**"
   ]
  },
  {
   "cell_type": "code",
   "execution_count": null,
   "id": "bf7a9773-1040-4993-9a2c-73bb78683b47",
   "metadata": {},
   "outputs": [],
   "source": [
    "img1_face = DeepFace.detectFace(\n",
    "    img_path = img1_path + img1_name, \n",
    "    target_size = (112,112), \n",
    "    detector_backend = detector_backends[4] #RetinaFace\n",
    ") \n",
    "\n",
    "img2_face = DeepFace.detectFace(\n",
    "    img_path = img2_path + img2_name, \n",
    "    target_size = (112,112), \n",
    "    detector_backend = detector_backends[4] #RetinaFace\n",
    ")"
   ]
  },
  {
   "cell_type": "markdown",
   "id": "6a8571ba-67f2-44e0-b320-5af0a24b4e04",
   "metadata": {},
   "source": [
    "- **Check Detected Image Results**"
   ]
  },
  {
   "cell_type": "code",
   "execution_count": null,
   "id": "276009c2-42c2-4243-a33e-6eb753434d7a",
   "metadata": {},
   "outputs": [],
   "source": [
    "plotTwoImg(img1_face, img2_face , img1_name, img2_name, (12,5))"
   ]
  },
  {
   "cell_type": "markdown",
   "id": "c896b238-7b1d-489d-8cd7-e74ae467d6c4",
   "metadata": {},
   "source": [
    "- **Extract Face Feature Map from each image**"
   ]
  },
  {
   "cell_type": "code",
   "execution_count": null,
   "id": "4d802e1b-07b6-4741-8222-22fd406f7b3d",
   "metadata": {
    "tags": []
   },
   "outputs": [],
   "source": [
    "img1_Facefeature = DeepFace.represent(\n",
    "    img_path = img1,\n",
    "    enforce_detection = True,\n",
    "    detector_backend = detector_backends[4], #RetinaFace\n",
    "    model_name = models[6], #ArcFace\n",
    "    align = True,\n",
    "    normalization = 'ArcFace'\n",
    ")\n",
    "\n",
    "img2_Facefeature = DeepFace.represent(\n",
    "    img_path = img2,\n",
    "    enforce_detection = True,\n",
    "    detector_backend = detector_backends[4], #RetinaFace\n",
    "    model_name = models[6], #ArcFace\n",
    "    align = True,\n",
    "    normalization = 'ArcFace'\n",
    ")"
   ]
  },
  {
   "cell_type": "markdown",
   "id": "95962492-250f-4bc7-9d57-69adb1aae1a1",
   "metadata": {},
   "source": [
    "- **Calculate distance by Feature Maps**"
   ]
  },
  {
   "cell_type": "code",
   "execution_count": null,
   "id": "ff006e1f-3e7e-48b7-b558-5b1c3e2e886a",
   "metadata": {},
   "outputs": [],
   "source": [
    "distance = dst.findCosineDistance(img1_Facefeature, img2_Facefeature)"
   ]
  },
  {
   "cell_type": "code",
   "execution_count": null,
   "id": "503bfa7e-bb41-4ba2-a79c-3248290cd453",
   "metadata": {},
   "outputs": [],
   "source": [
    "distance"
   ]
  },
  {
   "cell_type": "markdown",
   "id": "90cdb032-9b98-4a94-a525-3a9158120421",
   "metadata": {},
   "source": [
    "- **Verification by Distance**"
   ]
  },
  {
   "cell_type": "code",
   "execution_count": null,
   "id": "83b1574f-6703-4c9a-96c3-c144757dc7b5",
   "metadata": {},
   "outputs": [],
   "source": [
    "verificationByDistance(distance)"
   ]
  },
  {
   "cell_type": "markdown",
   "id": "3b0fb444-ebc2-4596-89b9-a002931db47d",
   "metadata": {},
   "source": [
    "## 2) Use DeepFace.verify()"
   ]
  },
  {
   "cell_type": "markdown",
   "id": "a556b70d-3709-419c-be56-3a4826a81ca7",
   "metadata": {},
   "source": [
    "> **Use Below Function**\n",
    "\n",
    "        DeepFace.verify (\n",
    "            img1_path = '' or numpy array(BGR)\n",
    "            img2_path = '' or numpy array(BGR)\n",
    "            model_name = ''\n",
    "            distance_metric = ''\n",
    "            model = model\n",
    "            enforce_detecton = True/False\n",
    "            detector_backend = ''\n",
    "            align = True\n",
    "            prog_bar =  True\n",
    "            normalization = 'base' / 'raw' / 'Facenet' / 'Facenet2018' / 'VGGFace' / 'VGGFace2' / 'ArcFace'\n",
    "            )"
   ]
  },
  {
   "cell_type": "markdown",
   "id": "a23feb09-a71f-4d75-9903-fe5c60cf6a92",
   "metadata": {},
   "source": [
    " - Face Detection 수행\n",
    " - Face Feature Map 추출\n",
    " - 두 이미지 Feature Map 간 Distance 계산 수행\n",
    " - Detection / Feature Map 추출 전 **다양한 전처리 수행**"
   ]
  },
  {
   "cell_type": "markdown",
   "id": "8a0151b3-dfa7-461e-a66a-1d03570faf16",
   "metadata": {},
   "source": [
    "### (1) Different Person"
   ]
  },
  {
   "cell_type": "code",
   "execution_count": null,
   "id": "715bf5bd-d2e7-43c0-9844-ed8d6e1ae255",
   "metadata": {},
   "outputs": [],
   "source": [
    "result = DeepFace.verify(\n",
    "        img1_path = './data/verification/BlackPink_Jenny.jpg',\n",
    "        img2_path = './data/verification/BlackPink_JiSoo.jpg',\n",
    "        model_name = models[6], #ArcFace\n",
    "        distance_metric = metrics[0], #Cosiine\n",
    "        enforce_detection = True,\n",
    "        align = True,\n",
    "        detector_backend = detector_backends[4], #RetinaFace\n",
    "        normalization = 'ArcFace'\n",
    "    )\n",
    "result"
   ]
  },
  {
   "cell_type": "markdown",
   "id": "f8e5bebe-3ca9-43f6-aa93-8945b94634c6",
   "metadata": {},
   "source": [
    "### (2) Same Person"
   ]
  },
  {
   "cell_type": "code",
   "execution_count": null,
   "id": "1eb6c3a9-0f56-4ce4-9e64-1bcb77709f58",
   "metadata": {},
   "outputs": [],
   "source": [
    "result = DeepFace.verify(\n",
    "        img1_path = './data/verification/BTS_V_1.jpg',\n",
    "        img2_path = './data/verification/BTS_V_2.jpg',\n",
    "        model_name = models[6], #ArcFace\n",
    "        distance_metric = metrics[0], #Cosiine\n",
    "        enforce_detection = True,\n",
    "        align = True,\n",
    "        detector_backend = detector_backends[4], #RetinaFace\n",
    "        normalization = 'ArcFace'\n",
    "    )\n",
    "result"
   ]
  },
  {
   "cell_type": "markdown",
   "id": "57d524eb-65b0-4e31-acbc-e635cb403c08",
   "metadata": {
    "tags": []
   },
   "source": [
    "### (3) Similar Person"
   ]
  },
  {
   "cell_type": "code",
   "execution_count": null,
   "id": "6defad1c-01ca-4172-ad0d-d2a1fcace8e1",
   "metadata": {},
   "outputs": [],
   "source": [
    "result = DeepFace.verify(\n",
    "        img1_path = './data/verification/JangKeunSuk.jpg',\n",
    "        img2_path = './data/verification/LeeHongGi.jpg',\n",
    "        model_name = models[6], #ArcFace\n",
    "        distance_metric = metrics[0], #Cosiine\n",
    "        enforce_detection = True,\n",
    "        align = True,\n",
    "        detector_backend = detector_backends[4], #RetinaFace\n",
    "        normalization = 'ArcFace'\n",
    "    )\n",
    "result"
   ]
  },
  {
   "cell_type": "markdown",
   "id": "e762e18f-e511-412c-8e63-28f069263c40",
   "metadata": {},
   "source": [
    "### (4) Twin"
   ]
  },
  {
   "cell_type": "code",
   "execution_count": null,
   "id": "65dc5ac8-d9d1-45a4-8cd5-da1a2e689ae5",
   "metadata": {},
   "outputs": [],
   "source": [
    "result = DeepFace.verify(\n",
    "        img1_path = './data/verification/Fred_Widsley.jpg',\n",
    "        img2_path = './data/verification/George_Widsley.jpg',\n",
    "        model_name = models[6], #ArcFace\n",
    "        distance_metric = metrics[0], #Cosiine\n",
    "        enforce_detection = True,\n",
    "        align = True,\n",
    "        detector_backend = detector_backends[4], #RetinaFace\n",
    "        normalization = 'ArcFace'\n",
    "    )\n",
    "result"
   ]
  }
 ],
 "metadata": {
  "kernelspec": {
   "display_name": "cv_edu2",
   "language": "python",
   "name": "cv_edu2"
  },
  "language_info": {
   "codemirror_mode": {
    "name": "ipython",
    "version": 3
   },
   "file_extension": ".py",
   "mimetype": "text/x-python",
   "name": "python",
   "nbconvert_exporter": "python",
   "pygments_lexer": "ipython3",
   "version": "3.8.13"
  }
 },
 "nbformat": 4,
 "nbformat_minor": 5
}
