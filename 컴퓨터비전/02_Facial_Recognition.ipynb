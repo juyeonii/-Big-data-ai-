{
 "cells": [
  {
   "cell_type": "markdown",
   "id": "d079fa2f-4085-4872-b3a2-3f11737a04bc",
   "metadata": {},
   "source": [
    "# < Facial Recognition >"
   ]
  },
  {
   "cell_type": "markdown",
   "id": "d08f7ad0-79aa-489e-addb-e5648f86b79f",
   "metadata": {},
   "source": [
    "- https://github.com/serengil/deepface"
   ]
  },
  {
   "cell_type": "code",
   "execution_count": null,
   "id": "6fd5683f-83c1-4af9-aaba-c17e361df74b",
   "metadata": {},
   "outputs": [],
   "source": [
    "import cv2\n",
    "import numpy as np\n",
    "import h5py\n",
    "import os\n",
    "import pandas as pd\n",
    "from matplotlib import pyplot as plt\n",
    "from deepface import DeepFace\n",
    "from deepface.commons import functions, realtime, distance as dst"
   ]
  },
  {
   "cell_type": "code",
   "execution_count": null,
   "id": "20f1d8d0-2488-4327-99d1-c7d509a2208f",
   "metadata": {},
   "outputs": [],
   "source": [
    "# Prevent GPU Memory Error\n",
    "import tensorflow as tf\n",
    "from tensorflow.compat.v1 import ConfigProto, Session\n",
    "from tensorflow.compat.v1.keras.backend import set_session\n",
    "config = ConfigProto()\n",
    "config.gpu_options.per_process_gpu_memory_fraction =0.3 #GPU 메모리 사용을 30%로 제한\n",
    "session = Session(config=config)\n",
    "set_session(session)"
   ]
  },
  {
   "cell_type": "code",
   "execution_count": null,
   "id": "a3d3204a-6cd3-49db-9d98-ded04ccffe05",
   "metadata": {},
   "outputs": [],
   "source": [
    "models = [\n",
    "  \"VGG-Face\", #0\n",
    "  \"Facenet\", #1\n",
    "  \"Facenet512\", #2 \n",
    "  \"OpenFace\", #3\n",
    "  \"DeepFace\", #4\n",
    "  \"DeepID\", #5\n",
    "  \"ArcFace\", #6 (Use)\n",
    "  \"Dlib\", #7\n",
    "  \"SFace\", #8\n",
    "]"
   ]
  },
  {
   "cell_type": "code",
   "execution_count": null,
   "id": "7e1804ad-43ed-4ecb-9253-f7ffa7fe10b0",
   "metadata": {},
   "outputs": [],
   "source": [
    "metrics = [\n",
    "    \"cosine\", #0 (Use)\n",
    "    \"euclidean\", #1 \n",
    "    \"euclidean_l2\" #2\n",
    "]"
   ]
  },
  {
   "cell_type": "code",
   "execution_count": null,
   "id": "cfb271ce-0b8e-43aa-8e96-e85a67b270b6",
   "metadata": {},
   "outputs": [],
   "source": [
    "detector_backends = [\n",
    "    'opencv', #0\n",
    "    'ssd', #1\n",
    "    'dlib', #2\n",
    "    'mtcnn', #3\n",
    "    'retinaface', #4 (Use)\n",
    "    'mediapipe' #5\n",
    "]"
   ]
  },
  {
   "cell_type": "markdown",
   "id": "f6824b55-4bdf-4373-8353-ecdfcf3c71d5",
   "metadata": {},
   "source": [
    "## 1. Face Recognition"
   ]
  },
  {
   "cell_type": "markdown",
   "id": "7b1de98f-ffa8-4c35-9845-cb07e5a32004",
   "metadata": {},
   "source": [
    "### 1)Enroll"
   ]
  },
  {
   "cell_type": "markdown",
   "id": "7f8a3c3f-4d6b-447f-a8c7-f6099910e5a4",
   "metadata": {},
   "source": [
    "- **Plot Images for Enrollment**"
   ]
  },
  {
   "cell_type": "code",
   "execution_count": null,
   "id": "4152c5de-6a13-49d0-8182-f5f8423e7dc3",
   "metadata": {},
   "outputs": [],
   "source": [
    "jisoo_List = ['BlackPink_JiSoo_1.jpg', 'BlackPink_JiSoo_2.jpg', 'BlackPink_JiSoo_3.jpg', 'BlackPink_JiSoo_4.jpg', 'BlackPink_JiSoo_5.jpg']\n",
    "eunwoo_Cha_List = ['Astro_Eunwoo_Cha_1.jpg', 'Astro_Eunwoo_Cha_2.jpg', 'Astro_Eunwoo_Cha_3.jpg', 'Astro_Eunwoo_Cha_4.jpg', 'Astro_Eunwoo_Cha_5.jpg']\n",
    "BTS_V_List = ['BTS_V_1.jpg', 'BTS_V_2.jpg', 'BTS_V_3.jpg', 'BTS_V_4.jpg', 'BTS_V_5.jpg']\n",
    "IU_List = ['Solo_IU_1.jpg', 'Solo_IU_2.jpg', 'Solo_IU_3.jpg', 'Solo_IU_4.jpg', 'Solo_IU_5.jpg']\n",
    "all_List = [jisoo_List, eunwoo_Cha_List, BTS_V_List, IU_List]"
   ]
  },
  {
   "cell_type": "code",
   "execution_count": null,
   "id": "be000dd5-b512-446f-849f-b6b84213d9d8",
   "metadata": {},
   "outputs": [],
   "source": [
    "img_path = './data/recognition/image/enroll/'\n",
    "fig, axes = plt.subplots(nrows=4,ncols=5, figsize=(30,30))\n",
    "row = 0\n",
    "col = 0\n",
    "for ind_list in all_List :\n",
    "    for img_name in ind_list :\n",
    "        ax = axes[row][col]\n",
    "        img = cv2.imread(img_path + img_name)\n",
    "        img = cv2.cvtColor(img,cv2.COLOR_BGR2RGB)\n",
    "        ax.imshow(img)\n",
    "        col += 1\n",
    "    row += 1\n",
    "    col = 0\n",
    "plt.show()"
   ]
  },
  {
   "cell_type": "markdown",
   "id": "9eab2b09-64d6-4187-89f9-63a88ff5c5ad",
   "metadata": {},
   "source": [
    "- **Functions for Enrollment**"
   ]
  },
  {
   "cell_type": "code",
   "execution_count": null,
   "id": "f22d3f1d-c37a-4316-83bf-42f02d27e2a3",
   "metadata": {},
   "outputs": [],
   "source": [
    "image_path = './data/recognition/image/enroll/'\n",
    "image_name = None\n",
    "gallery_path = './data/recognition/gallery/'\n",
    "gallery_name = 'gallery.hdf'"
   ]
  },
  {
   "cell_type": "code",
   "execution_count": null,
   "id": "21392f48-d85a-4540-87cf-2ce019f1fdfd",
   "metadata": {},
   "outputs": [],
   "source": [
    "def extractFeatureMap(img_path) :\n",
    "    #TO DO\n",
    "\n",
    "    \n",
    "    \n",
    "    \n",
    "    \n",
    "    \n",
    "    \n",
    "    \n",
    "    return face_feature"
   ]
  },
  {
   "cell_type": "markdown",
   "id": "807841c5-2ea6-4961-ab8c-200823e500bd",
   "metadata": {},
   "source": [
    "![gallery_structure](./data/jupyter_image/gallery_structure.jpg)"
   ]
  },
  {
   "cell_type": "code",
   "execution_count": null,
   "id": "0e350acc-2125-49f5-8ad6-a8aee8b116f5",
   "metadata": {},
   "outputs": [],
   "source": [
    "def enrollment(name, department, id_value, gallery_path, gallery_name, image_path) :\n",
    "    \n",
    "    #Load HDF5 Gallery - If File Not Exist, create new gallery\n",
    "    gallery = h5py.File(gallery_path + gallery_name,'a')\n",
    "    \n",
    "    #Detect Face & Extract Feature from Face\n",
    "    face_feature = extractFeatureMap(image_path) \n",
    "    \n",
    "    #Enroll Feature Map in gallery\n",
    "    all_id = gallery.keys()\n",
    "    id_value = str(id_value)\n",
    "    if id_value in all_id : \n",
    "        #TO DO\n",
    "        \n",
    "        \n",
    "        \n",
    "        \n",
    "        \n",
    "        \n",
    "        \n",
    "    else :\n",
    "        #TO DO\n",
    "\n",
    "        \n",
    "        \n",
    "        \n",
    "        \n",
    "        \n",
    "    \n",
    "    gallery.close() #Must"
   ]
  },
  {
   "cell_type": "markdown",
   "id": "d6f16974-0b98-4edd-bf30-fb27a9c8a036",
   "metadata": {},
   "source": [
    "- **Enroll JiSoo (5 Pictures)**"
   ]
  },
  {
   "cell_type": "code",
   "execution_count": null,
   "id": "815c8104-ec7c-4e61-8363-61350b4a613c",
   "metadata": {},
   "outputs": [],
   "source": [
    "#Enroll JiSoo\n",
    "image_name = 'BlackPink_JiSoo_1.jpg'\n",
    "name = 'jisoo-kim'\n",
    "department = 'Black Pink'\n",
    "id_value = 0\n",
    "#numpy image(BGR) or image path\n",
    "enrollment(name, department, id_value, gallery_path, gallery_name, image_path + image_name)"
   ]
  },
  {
   "cell_type": "code",
   "execution_count": null,
   "id": "dcf012fc-b785-49f2-bf8f-4a54f0d701f8",
   "metadata": {},
   "outputs": [],
   "source": [
    "image_name = 'BlackPink_JiSoo_2.jpg'\n",
    "#numpy image(BGR) or image path\n",
    "enrollment(name, department, id_value, gallery_path, gallery_name, image_path + image_name)"
   ]
  },
  {
   "cell_type": "code",
   "execution_count": null,
   "id": "cdce2112-9d18-4e86-a534-c366f7b49df2",
   "metadata": {},
   "outputs": [],
   "source": [
    "image_name = 'BlackPink_JiSoo_3.jpg'\n",
    "#numpy image(BGR) or image path\n",
    "enrollment(name, department, id_value, gallery_path, gallery_name, image_path + image_name)"
   ]
  },
  {
   "cell_type": "code",
   "execution_count": null,
   "id": "680d9acf-cb35-4b56-bbb8-2842e11079fc",
   "metadata": {},
   "outputs": [],
   "source": [
    "image_name = 'BlackPink_JiSoo_4.jpg'\n",
    "#numpy image(BGR) or image path\n",
    "enrollment(name, department, id_value, gallery_path, gallery_name, image_path + image_name)"
   ]
  },
  {
   "cell_type": "code",
   "execution_count": null,
   "id": "8c56ece6-bd4c-40f2-97b5-070311e4f9f7",
   "metadata": {},
   "outputs": [],
   "source": [
    "image_name = 'BlackPink_JiSoo_5.jpg'\n",
    "#numpy image(BGR) or image path\n",
    "enrollment(name, department, id_value, gallery_path, gallery_name, image_path + image_name)"
   ]
  },
  {
   "cell_type": "markdown",
   "id": "9bb1921f-4184-47c5-8b71-d3e0d9f77d6b",
   "metadata": {},
   "source": [
    "- **Enroll EunWoo-Cha (5 Pictures)**"
   ]
  },
  {
   "cell_type": "code",
   "execution_count": null,
   "id": "30fc48f4-f6d7-4454-b247-c3a27223d7fc",
   "metadata": {},
   "outputs": [],
   "source": [
    "#Enroll Eun-Woo Cha\n",
    "image_name = 'Astro_Eunwoo_Cha_1.jpg'\n",
    "name = 'eunwoo-cha'\n",
    "department = 'Astro'\n",
    "id_value = 1\n",
    "#numpy image(BGR) or image path\n",
    "enrollment(name, department, id_value, gallery_path, gallery_name, image_path + image_name)"
   ]
  },
  {
   "cell_type": "code",
   "execution_count": null,
   "id": "9d31364f-a6ca-4797-9464-a2aa334973f0",
   "metadata": {},
   "outputs": [],
   "source": [
    "image_name = 'Astro_Eunwoo_Cha_2.jpg'\n",
    "#numpy image(BGR) or image path\n",
    "enrollment(name, department, id_value, gallery_path, gallery_name, image_path + image_name)"
   ]
  },
  {
   "cell_type": "code",
   "execution_count": null,
   "id": "c02650ba-d80f-4569-87a4-6f87ce5faa1c",
   "metadata": {},
   "outputs": [],
   "source": [
    "image_name = 'Astro_Eunwoo_Cha_3.jpg'\n",
    "#numpy image(BGR) or image path\n",
    "enrollment(name, department, id_value, gallery_path, gallery_name, image_path + image_name)"
   ]
  },
  {
   "cell_type": "code",
   "execution_count": null,
   "id": "b857359e-2eda-49bb-b5e7-ad69ac90823e",
   "metadata": {},
   "outputs": [],
   "source": [
    "image_name = 'Astro_Eunwoo_Cha_4.jpg'\n",
    "#numpy image(BGR) or image path\n",
    "enrollment(name, department, id_value, gallery_path, gallery_name, image_path + image_name)"
   ]
  },
  {
   "cell_type": "code",
   "execution_count": null,
   "id": "db9490fc-276e-4b09-93ae-b308d821b96e",
   "metadata": {},
   "outputs": [],
   "source": [
    "image_name = 'Astro_Eunwoo_Cha_5.jpg'\n",
    "#numpy image(BGR) or image path\n",
    "enrollment(name, department, id_value, gallery_path, gallery_name, image_path + image_name)"
   ]
  },
  {
   "cell_type": "markdown",
   "id": "ee2666f5-8117-4c55-8c98-8e85f33eb51b",
   "metadata": {},
   "source": [
    "- **Enroll BTS V (5 Pictures)**"
   ]
  },
  {
   "cell_type": "code",
   "execution_count": null,
   "id": "3684f86c-c493-4b75-8411-22a515eb27f9",
   "metadata": {},
   "outputs": [],
   "source": [
    "#Enroll BTS V\n",
    "image_name = 'BTS_V_1.jpg'\n",
    "name = 'V'\n",
    "department = 'BTS'\n",
    "id_value = 2\n",
    "#numpy image(BGR) or image path\n",
    "enrollment(name, department, id_value, gallery_path, gallery_name, image_path + image_name)"
   ]
  },
  {
   "cell_type": "code",
   "execution_count": null,
   "id": "df6da882-e115-478d-97d8-141091bb4c7c",
   "metadata": {},
   "outputs": [],
   "source": [
    "image_name = 'BTS_V_2.jpg'\n",
    "#numpy image(BGR) or image path\n",
    "enrollment(name, department, id_value, gallery_path, gallery_name, image_path + image_name)"
   ]
  },
  {
   "cell_type": "code",
   "execution_count": null,
   "id": "181e885f-7751-4d96-b321-f6556bbb8d38",
   "metadata": {},
   "outputs": [],
   "source": [
    "image_name = 'BTS_V_3.jpg'\n",
    "#numpy image(BGR) or image path\n",
    "enrollment(name, department, id_value, gallery_path, gallery_name, image_path + image_name)"
   ]
  },
  {
   "cell_type": "code",
   "execution_count": null,
   "id": "bff1a334-f672-4e86-9f88-72d164b753d2",
   "metadata": {},
   "outputs": [],
   "source": [
    "image_name = 'BTS_V_4.jpg'\n",
    "#numpy image(BGR) or image path\n",
    "enrollment(name, department, id_value, gallery_path, gallery_name, image_path + image_name)"
   ]
  },
  {
   "cell_type": "code",
   "execution_count": null,
   "id": "6daac545-0f66-44ba-9cfd-663ec857c1ab",
   "metadata": {},
   "outputs": [],
   "source": [
    "image_name = 'BTS_V_5.jpg'\n",
    "#numpy image(BGR) or image path\n",
    "enrollment(name, department, id_value, gallery_path, gallery_name, image_path + image_name)"
   ]
  },
  {
   "cell_type": "markdown",
   "id": "bd240986-59f6-4e70-be51-31fa8f8d9f97",
   "metadata": {},
   "source": [
    "- **Enroll IU**"
   ]
  },
  {
   "cell_type": "code",
   "execution_count": null,
   "id": "4d93ec76-988e-4dde-9a56-815ca5889fc6",
   "metadata": {},
   "outputs": [],
   "source": [
    "#Enroll IU\n",
    "image_name = 'Solo_IU_1.jpg'\n",
    "name = 'IU'\n",
    "department = 'Solo'\n",
    "id_value = 3\n",
    "#numpy image(BGR) or image path\n",
    "enrollment(name, department, id_value, gallery_path, gallery_name, image_path + image_name)"
   ]
  },
  {
   "cell_type": "code",
   "execution_count": null,
   "id": "294b62a1-a46c-4491-8855-dad19901f046",
   "metadata": {},
   "outputs": [],
   "source": [
    "image_name = 'Solo_IU_2.jpg'\n",
    "#numpy image(BGR) or image path\n",
    "enrollment(name, department, id_value, gallery_path, gallery_name, image_path + image_name)"
   ]
  },
  {
   "cell_type": "code",
   "execution_count": null,
   "id": "b9285c71-e0a3-4a88-919a-e84a7cd15129",
   "metadata": {},
   "outputs": [],
   "source": [
    "image_name = 'Solo_IU_3.jpg'\n",
    "#numpy image(BGR) or image path\n",
    "enrollment(name, department, id_value, gallery_path, gallery_name, image_path + image_name)"
   ]
  },
  {
   "cell_type": "code",
   "execution_count": null,
   "id": "12ed2e69-ac88-4911-a415-cb35983dbf62",
   "metadata": {},
   "outputs": [],
   "source": [
    "image_name = 'Solo_IU_4.jpg'\n",
    "#numpy image(BGR) or image path\n",
    "enrollment(name, department, id_value, gallery_path, gallery_name, image_path + image_name)"
   ]
  },
  {
   "cell_type": "code",
   "execution_count": null,
   "id": "9c1f72cd-4f86-4372-9354-4d403ba1ceb5",
   "metadata": {},
   "outputs": [],
   "source": [
    "image_name = 'Solo_IU_5.jpg'\n",
    "#numpy image(BGR) or image path\n",
    "enrollment(name, department, id_value, gallery_path, gallery_name, image_path + image_name)"
   ]
  },
  {
   "cell_type": "markdown",
   "id": "8a03fbdd-b294-482a-b185-125428bc610a",
   "metadata": {},
   "source": [
    "### 3) List"
   ]
  },
  {
   "cell_type": "code",
   "execution_count": null,
   "id": "d2f80c14-c7d5-4e4d-9986-da28b9338509",
   "metadata": {},
   "outputs": [],
   "source": [
    "def mkgalleryList(gallery_path,gallery_name) :\n",
    "    #Open gallery hdf File\n",
    "    gallery = h5py.File(gallery_path + gallery_name, 'r')\n",
    "    \n",
    "    # Get ID List from hdf5 File\n",
    "    id_list = list(gallery.keys())\n",
    "    \n",
    "    # Make Name/Department/Feature Map List\n",
    "    name_list = []\n",
    "    dept_list = []\n",
    "    fmnum_list = []\n",
    "    \n",
    "    # Search Elements\n",
    "    for _id in id_list :\n",
    "        # Extract name\n",
    "        name = gallery[_id]['Name']\n",
    "        name = np.array(name)\n",
    "        name = str(name)\n",
    "        name_list.append(name)\n",
    "        \n",
    "        # Extract Dictionary\n",
    "        dept = gallery[_id]['Department']\n",
    "        dept = np.array(dept)\n",
    "        dept = str(dept)\n",
    "        dept_list.append(dept)\n",
    "        \n",
    "        # Count feature map num\n",
    "        fm_list = gallery[_id]['Feature Map'].keys()\n",
    "        num_fm = len(fm_list)\n",
    "        fmnum_list.append(num_fm)\n",
    "    \n",
    "    #Make Pandas DataFrame\n",
    "    df_List = pd.DataFrame(\n",
    "        {\n",
    "            'ID' : id_list,\n",
    "            'Name' : name_list,\n",
    "            'Department' : dept_list,\n",
    "            'Number of Feature Map' : fmnum_list,\n",
    "        }\n",
    "    )\n",
    "    \n",
    "    gallery.close()\n",
    "    \n",
    "    return df_List"
   ]
  },
  {
   "cell_type": "code",
   "execution_count": null,
   "id": "ffa8d7f8-07cf-4720-bf35-d013c9102134",
   "metadata": {},
   "outputs": [],
   "source": [
    "df = mkgalleryList(gallery_path,gallery_name)\n",
    "df"
   ]
  },
  {
   "cell_type": "markdown",
   "id": "f3883cd8-38eb-4ce4-a1c0-dde806c7404f",
   "metadata": {
    "tags": []
   },
   "source": [
    "### 3) Face Recognition(=Identification)"
   ]
  },
  {
   "cell_type": "code",
   "execution_count": null,
   "id": "21139701-3016-4317-9b05-d3296ea087c9",
   "metadata": {},
   "outputs": [],
   "source": [
    "def faceRecognition(testimg_path) :\n",
    "    \n",
    "    #Detect Face & Extract Feature\n",
    "    test_feature = extractFeatureMap(testimg_path)\n",
    "    \n",
    "    #Compare feature with gallery\n",
    "    gallery = h5py.File(gallery_path + gallery_name, 'r')\n",
    "    id_list = list(gallery.keys())\n",
    "    \n",
    "    dist_list = []\n",
    "    gid_list = []\n",
    "    gname_list = []\n",
    "    gdept_list = []\n",
    "    # Access all ID\n",
    "    for _id in id_list :\n",
    "        fm_list = list(gallery[_id]['Feature Map'].keys())\n",
    "        # Access all feature maps of each ID & Calculate distance with test image\n",
    "        for fm_name in fm_list :\n",
    "            #Get gallery features\n",
    "            g_feature = gallery[_id]['Feature Map'][fm_name]\n",
    "            \n",
    "            # Calculate Distance\n",
    "            dist = dst.findCosineDistance(test_feature, g_feature)\n",
    "            \n",
    "            #Make Result lists\n",
    "            dist_list.append(dist)\n",
    "            gid_list.append(_id)\n",
    "            gname_list.append(str(np.array(gallery[_id]['Name'])))\n",
    "            gdept_list.append(str(np.array(gallery[_id]['Department'])))\n",
    "            \n",
    "    # sort all list by dist_list value\n",
    "    dist_list, gid_list, gname_list, gdept_list = map(list,zip(*sorted(zip(dist_list,gid_list,gname_list,gdept_list))))\n",
    "    \n",
    "    # Make Result pandas dataframe\n",
    "    result_df = pd.DataFrame(\n",
    "        {\n",
    "            \"Distance\" : dist_list,\n",
    "            \"ID\" : gid_list,\n",
    "            \"Name\" : gname_list,\n",
    "            \"Department\" : gdept_list\n",
    "        }\n",
    "    )\n",
    "    \n",
    "    # Make Result Dictionary\n",
    "    if dist_list[0] <= 0.68 :\n",
    "        result_dict = {\n",
    "            'ID' : gid_list[0],\n",
    "            'name' : gname_list[0],\n",
    "            'department' : gdept_list[0],\n",
    "            'distance' : dist_list[0]\n",
    "        }\n",
    "        \n",
    "    else :\n",
    "        result_dict = {\n",
    "            'ID' : None,\n",
    "            'name' : 'Stranger',\n",
    "            'department' : None,\n",
    "            'distance' : None\n",
    "        }\n",
    "    \n",
    "    gallery.close()\n",
    "    \n",
    "    return result_dict, result_df"
   ]
  },
  {
   "cell_type": "markdown",
   "id": "584c6fa9-09c2-46c1-9fd3-48d5737f9391",
   "metadata": {},
   "source": [
    "- **IU Face Recognition**"
   ]
  },
  {
   "cell_type": "code",
   "execution_count": null,
   "id": "a52228cf-d814-4542-92b5-190a729a2bc7",
   "metadata": {},
   "outputs": [],
   "source": [
    "testimg_path = './data/recognition/image/test/'\n",
    "testimg_name = 'Solo_IU_test.jpg'"
   ]
  },
  {
   "cell_type": "code",
   "execution_count": null,
   "id": "2ec48ea1-c62e-4b26-ae5e-9257739b59ed",
   "metadata": {},
   "outputs": [],
   "source": [
    "test_img = cv2.imread(testimg_path+testimg_name)\n",
    "test_img = cv2.cvtColor(test_img,cv2.COLOR_BGR2RGB)\n",
    "fig = plt.figure(figsize=(3,3))\n",
    "plt.imshow(test_img)\n",
    "plt.show()"
   ]
  },
  {
   "cell_type": "code",
   "execution_count": null,
   "id": "4714b60a-4f60-45d5-b75d-cdc43686d0b3",
   "metadata": {},
   "outputs": [],
   "source": [
    "#numpy image(BGR) or image path\n",
    "result , result_list = faceRecognition(testimg_path + testimg_name)"
   ]
  },
  {
   "cell_type": "code",
   "execution_count": null,
   "id": "e6eabfa0-d40c-4f75-a96a-8b218ee9ce0c",
   "metadata": {},
   "outputs": [],
   "source": [
    "result"
   ]
  },
  {
   "cell_type": "code",
   "execution_count": null,
   "id": "52de1a5f-daaf-4826-a4e0-a137750a6c6f",
   "metadata": {},
   "outputs": [],
   "source": [
    "result_list"
   ]
  },
  {
   "cell_type": "markdown",
   "id": "cdb1da5e-5b65-4bfb-ad9e-1cb22e9c12c4",
   "metadata": {},
   "source": [
    "- **JiSoo Face Recognition**"
   ]
  },
  {
   "cell_type": "code",
   "execution_count": null,
   "id": "2cf35403-455c-42a3-9abb-a7a0d5152a23",
   "metadata": {},
   "outputs": [],
   "source": [
    "testimg_path = './data/recognition/image/test/'\n",
    "testimg_name = 'BlackPink_JiSoo_test.jpg'"
   ]
  },
  {
   "cell_type": "code",
   "execution_count": null,
   "id": "abff1998-f715-45b1-be2c-b47f92ee9851",
   "metadata": {},
   "outputs": [],
   "source": [
    "test_img = cv2.imread(testimg_path+testimg_name)\n",
    "test_img = cv2.cvtColor(test_img,cv2.COLOR_BGR2RGB)\n",
    "fig = plt.figure(figsize=(3,3))\n",
    "plt.imshow(test_img)\n",
    "plt.show()"
   ]
  },
  {
   "cell_type": "code",
   "execution_count": null,
   "id": "ad87d6e4-c114-460f-a6b3-6141fd7ce295",
   "metadata": {},
   "outputs": [],
   "source": [
    "#numpy image(BGR) or image path\n",
    "result , result_list = faceRecognition(testimg_path + testimg_name)"
   ]
  },
  {
   "cell_type": "code",
   "execution_count": null,
   "id": "a10512f4-c637-4ba3-b8f9-0d701ac58a5e",
   "metadata": {},
   "outputs": [],
   "source": [
    "result"
   ]
  },
  {
   "cell_type": "code",
   "execution_count": null,
   "id": "085754d8-e60a-4ad5-90a7-744da0485197",
   "metadata": {},
   "outputs": [],
   "source": [
    "result_list"
   ]
  },
  {
   "cell_type": "markdown",
   "id": "89fbcbb8-85a3-47ce-bee3-f297dcbce310",
   "metadata": {},
   "source": [
    "- **Eunwoo-Cha Face Recognition**"
   ]
  },
  {
   "cell_type": "code",
   "execution_count": null,
   "id": "233aba12-94ab-4c3c-9565-8585bded54f4",
   "metadata": {},
   "outputs": [],
   "source": [
    "testimg_path = './data/recognition/image/test/'\n",
    "testimg_name = 'Astro_Eunwoo_Cha_test.jpg'"
   ]
  },
  {
   "cell_type": "code",
   "execution_count": null,
   "id": "07e3553e-6e52-4713-9b2f-e9609e2362be",
   "metadata": {},
   "outputs": [],
   "source": [
    "test_img = cv2.imread(testimg_path+testimg_name)\n",
    "test_img = cv2.cvtColor(test_img,cv2.COLOR_BGR2RGB)\n",
    "fig = plt.figure(figsize=(3,3))\n",
    "plt.imshow(test_img)\n",
    "plt.show()"
   ]
  },
  {
   "cell_type": "code",
   "execution_count": null,
   "id": "e422d7c9-8e45-4bf9-ad66-2a1b43bd1ece",
   "metadata": {},
   "outputs": [],
   "source": [
    "#numpy image(BGR) or image path\n",
    "result , result_list = faceRecognition(testimg_path + testimg_name)"
   ]
  },
  {
   "cell_type": "code",
   "execution_count": null,
   "id": "3ecee3c3-764c-479f-8902-71d17ca567ae",
   "metadata": {},
   "outputs": [],
   "source": [
    "result"
   ]
  },
  {
   "cell_type": "code",
   "execution_count": null,
   "id": "ba2e31de-339c-42e2-b858-5ff15da8119b",
   "metadata": {},
   "outputs": [],
   "source": [
    "result_list"
   ]
  },
  {
   "cell_type": "markdown",
   "id": "4bcc9d12-69c3-4adc-803e-d7e3aa178d5c",
   "metadata": {},
   "source": [
    "- **BTS_V Face Recognition**"
   ]
  },
  {
   "cell_type": "code",
   "execution_count": null,
   "id": "51e889e7-f7e8-4a8c-a563-fccf25ac2d0d",
   "metadata": {},
   "outputs": [],
   "source": [
    "testimg_path = './data/recognition/image/test/'\n",
    "testimg_name = 'BTS_V_test.jpg'"
   ]
  },
  {
   "cell_type": "code",
   "execution_count": null,
   "id": "dae611cd-f694-48a6-8976-649732bae7e7",
   "metadata": {},
   "outputs": [],
   "source": [
    "test_img = cv2.imread(testimg_path+testimg_name)\n",
    "test_img = cv2.cvtColor(test_img,cv2.COLOR_BGR2RGB)\n",
    "fig = plt.figure(figsize=(3,3))\n",
    "plt.imshow(test_img)\n",
    "plt.show()"
   ]
  },
  {
   "cell_type": "code",
   "execution_count": null,
   "id": "42134643-d8bb-4488-830e-1a16f26f74a8",
   "metadata": {},
   "outputs": [],
   "source": [
    "#numpy image(BGR) or image path\n",
    "result , result_list = faceRecognition(testimg_path + testimg_name)"
   ]
  },
  {
   "cell_type": "code",
   "execution_count": null,
   "id": "15dabada-a290-48b7-8c5a-86ccbc645f79",
   "metadata": {},
   "outputs": [],
   "source": [
    "result"
   ]
  },
  {
   "cell_type": "code",
   "execution_count": null,
   "id": "41fcc4f2-c902-47af-892b-e9109f169253",
   "metadata": {},
   "outputs": [],
   "source": [
    "result_list"
   ]
  },
  {
   "cell_type": "markdown",
   "id": "2ee3d2c4-f55a-4784-9649-594e83db8fb7",
   "metadata": {},
   "source": [
    "- **Stranger Face Recognition**"
   ]
  },
  {
   "cell_type": "code",
   "execution_count": null,
   "id": "c79d9d94-79f1-4176-bdac-e5ad45042be3",
   "metadata": {},
   "outputs": [],
   "source": [
    "testimg_path = './data/recognition/image/test/'\n",
    "testimg_name = 'jaeSuk-Yu_test.jpg'"
   ]
  },
  {
   "cell_type": "code",
   "execution_count": null,
   "id": "e0604b4e-353e-40e4-ac3d-ca2cde376498",
   "metadata": {},
   "outputs": [],
   "source": [
    "test_img = cv2.imread(testimg_path+testimg_name)\n",
    "test_img = cv2.cvtColor(test_img,cv2.COLOR_BGR2RGB)\n",
    "fig = plt.figure(figsize=(3,3))\n",
    "plt.imshow(test_img)\n",
    "plt.show()"
   ]
  },
  {
   "cell_type": "code",
   "execution_count": null,
   "id": "cd7e558e-3a92-449b-98ef-ad9568831912",
   "metadata": {},
   "outputs": [],
   "source": [
    "result , result_list = faceRecognition(testimg_path+testimg_name)"
   ]
  },
  {
   "cell_type": "code",
   "execution_count": null,
   "id": "539f9247-cc06-463e-9723-45e90c97d1f8",
   "metadata": {},
   "outputs": [],
   "source": [
    "result"
   ]
  },
  {
   "cell_type": "code",
   "execution_count": null,
   "id": "9b5af035-d638-46e2-8a01-b078b972d8b0",
   "metadata": {},
   "outputs": [],
   "source": [
    "result_list"
   ]
  },
  {
   "cell_type": "markdown",
   "id": "9a1ece15-37b3-49c5-86ef-de357b3f1a18",
   "metadata": {},
   "source": [
    "### 4) Delete"
   ]
  },
  {
   "cell_type": "code",
   "execution_count": null,
   "id": "764ffdcf-b08f-4567-9a9b-545677e9885b",
   "metadata": {},
   "outputs": [],
   "source": [
    "def delete(id_value, gallery_path, gallery_name) :\n",
    "    gallery = h5py.File(gallery_path + gallery_name, \"r+\")\n",
    "    id_value = str(id_value)\n",
    "    del gallery[id_value]\n",
    "    gallery.close()"
   ]
  },
  {
   "cell_type": "code",
   "execution_count": null,
   "id": "e7033187-fc34-4651-bd30-7edb50f0eb3b",
   "metadata": {},
   "outputs": [],
   "source": [
    "delete(2, gallery_path, gallery_name) #Delete BTS V"
   ]
  },
  {
   "cell_type": "code",
   "execution_count": null,
   "id": "7c790aa7-d809-4c5b-ac4c-85dd0449d26a",
   "metadata": {},
   "outputs": [],
   "source": [
    "#Check gallery\n",
    "gallery = h5py.File(gallery_path + gallery_name, \"r\")\n",
    "print(gallery.keys())"
   ]
  },
  {
   "cell_type": "code",
   "execution_count": null,
   "id": "611b852c-e3ef-4c18-949f-747b1298470c",
   "metadata": {},
   "outputs": [],
   "source": [
    "gallery.close()"
   ]
  },
  {
   "cell_type": "markdown",
   "id": "d648b9cc-798d-43dd-a65b-bf751ed9f597",
   "metadata": {},
   "source": [
    "### 5) Clear"
   ]
  },
  {
   "cell_type": "code",
   "execution_count": null,
   "id": "3f020055-45bd-4698-a478-ded561d99634",
   "metadata": {},
   "outputs": [],
   "source": [
    "def clear(gallery_path, gallery_name) :\n",
    "    gallery = h5py.File(gallery_path + gallery_name, 'r+')\n",
    "    id_list = list(gallery.keys())\n",
    "    \n",
    "    for _id in id_list :\n",
    "        del gallery[_id]\n",
    "        \n",
    "    gallery.close()"
   ]
  },
  {
   "cell_type": "code",
   "execution_count": null,
   "id": "93a84d5b-6a7b-4acd-a5a6-7e9564c20065",
   "metadata": {},
   "outputs": [],
   "source": [
    "clear(gallery_path, gallery_name)"
   ]
  },
  {
   "cell_type": "code",
   "execution_count": null,
   "id": "f30b3e82-efad-466f-9c55-2aabd9673071",
   "metadata": {},
   "outputs": [],
   "source": [
    "gallery = h5py.File(gallery_path + gallery_name, \"r\")\n",
    "print(gallery.keys())"
   ]
  },
  {
   "cell_type": "code",
   "execution_count": null,
   "id": "459c1440-afeb-41c2-a5b2-a8ef1f883a78",
   "metadata": {},
   "outputs": [],
   "source": [
    "gallery.close()"
   ]
  }
 ],
 "metadata": {
  "kernelspec": {
   "display_name": "cv_edu",
   "language": "python",
   "name": "cv_edu"
  },
  "language_info": {
   "codemirror_mode": {
    "name": "ipython",
    "version": 3
   },
   "file_extension": ".py",
   "mimetype": "text/x-python",
   "name": "python",
   "nbconvert_exporter": "python",
   "pygments_lexer": "ipython3",
   "version": "3.8.13"
  }
 },
 "nbformat": 4,
 "nbformat_minor": 5
}
