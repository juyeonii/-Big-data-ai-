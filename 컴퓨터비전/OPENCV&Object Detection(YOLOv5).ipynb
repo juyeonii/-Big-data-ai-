{
 "cells": [
  {
   "cell_type": "markdown",
   "id": "bbfcd9af-c13a-40c7-871b-7fc7c7edca68",
   "metadata": {
    "tags": []
   },
   "source": [
    "# < YOLOv5 Setting >"
   ]
  },
  {
   "cell_type": "markdown",
   "id": "fb5e3e18-18ac-4d16-b3df-0a44351f2fe2",
   "metadata": {},
   "source": [
    "# 1. Requirements for YOLO v5"
   ]
  },
  {
   "cell_type": "markdown",
   "id": "6695a287-4dc4-4f08-a1a6-c31872b40d14",
   "metadata": {
    "tags": []
   },
   "source": [
    "### ※ requirements.txt\n",
    "\n",
    "- Base ----------------------------------------\n",
    "\n",
    "  &#45; matplotlib>=3.2.2\n",
    "\n",
    "  &#45; numpy>=1.18.5 \n",
    "\n",
    "  &#45; opencv-python>=4.1.2\n",
    "\n",
    "  &#45; Pillow>=7.1.2\n",
    "\n",
    "  &#45; PyYAML>=5.3.1\n",
    "\n",
    "  &#45; requests>=2.23.0\n",
    "\n",
    "  &#45; scipy>=1.4.1\n",
    "\n",
    "  &#45; # torch>=1.7.0\n",
    "\n",
    "  &#45; # torchvision>=0.8.1\n",
    "\n",
    "  &#45; tqdm>=4.41.0\n",
    "\n",
    "- Logging ------------------------------------- &nasp;\n",
    "\n",
    "  &#45; tensorboard>=2.4.1\n",
    "\n",
    "  &#45; &#35; wandb\n",
    "\n",
    "- Plotting ------------------------------------\n",
    "  &#45; pandas>=1.1.4\n",
    "  &#45; seaborn>=0.11.0\n",
    "\n",
    "- Export --------------------------------------\n",
    "\n",
    "  &#45; &#35; coremltools>=4.1  # CoreML export\n",
    "\n",
    "  &#45; &#35; onnx>=1.9.0  # ONNX export\n",
    "\n",
    "  &#45; &#35; onnx-simplifier>=0.3.6  # ONNX simplifier\n",
    "\n",
    "  &#45; &#35; scikit-learn==0.19.2  # CoreML quantization\n",
    "\n",
    "  &#45; &#35; tensorflow>=2.4.1  # TFLite export\n",
    "\n",
    "  &#45; &#35; tensorflowjs>=3.9.0  # TF.js export\n",
    "\n",
    "  &#45; &#35; openvino-dev  # OpenVINO export\n",
    "\n",
    "- #Extras --------------------------------------\n",
    "\n",
    "  &#45; &#35; albumentations>=1.0.3\n",
    "  \n",
    "  &#45; &#35; Cython  # for pycocotools https://github.com/cocodataset/cocoapi/issues/172\n",
    "  \n",
    "  &#45; &#35; pycocotools>=2.0  # COCO mAP\n",
    "  \n",
    "  &#45; &#35; roboflow\n",
    "  \n",
    "  &#45; thop &nbsp; &nbsp; #FLOPs computation"
   ]
  },
  {
   "cell_type": "markdown",
   "id": "640bb122-23d2-4276-8cac-ff85f1c5c46e",
   "metadata": {},
   "source": [
    "## 1) Install Packages by requirements.txt"
   ]
  },
  {
   "cell_type": "code",
   "execution_count": null,
   "id": "9c829501-6a94-47e0-97e4-8d885931c0af",
   "metadata": {},
   "outputs": [],
   "source": [
    "!pip install -r ./requirements.txt"
   ]
  },
  {
   "cell_type": "code",
   "execution_count": null,
   "id": "ac09b8f2-93bf-45bf-a4a9-bced97b598ce",
   "metadata": {},
   "outputs": [],
   "source": [
    "#uninstall torch for reinstall torch(version for gpu available)\n",
    "!pip uninstall torch -y"
   ]
  },
  {
   "cell_type": "markdown",
   "id": "0782f07e-1979-4377-abb6-cf933c6c6f45",
   "metadata": {
    "tags": []
   },
   "source": [
    "## 2) Install pytorch/torchvision/torchaudio CUDATOOLKIT 11.3"
   ]
  },
  {
   "cell_type": "code",
   "execution_count": null,
   "id": "4891ba63-284a-411f-aa97-1cad22bc4ab4",
   "metadata": {},
   "outputs": [],
   "source": [
    "!conda install pytorch=1.10 torchvision=0.11 torchaudio=0.10 cudatoolkit=11.3 -c pytorch -y"
   ]
  },
  {
   "cell_type": "markdown",
   "id": "19b71e1c-2faa-4567-a700-807efe8427bb",
   "metadata": {},
   "source": [
    "## 3) Install other packages for code running"
   ]
  },
  {
   "cell_type": "code",
   "execution_count": null,
   "id": "e989b727-4b7c-451b-9ca3-6c286e44362e",
   "metadata": {},
   "outputs": [],
   "source": [
    "!pip install tabulate"
   ]
  },
  {
   "cell_type": "code",
   "execution_count": null,
   "id": "2ce9f880-0163-4362-8e97-00a843788e3c",
   "metadata": {},
   "outputs": [],
   "source": [
    "!pip install pycocotools"
   ]
  },
  {
   "cell_type": "code",
   "execution_count": null,
   "id": "ad9f3665-5c9b-41a8-95b2-7fd743caa4a3",
   "metadata": {},
   "outputs": [],
   "source": [
    "!conda install git -y"
   ]
  },
  {
   "cell_type": "markdown",
   "id": "01b7a09e-c18d-4743-a127-0f0eac1976d3",
   "metadata": {
    "tags": []
   },
   "source": [
    "## 4) Check GPU Available"
   ]
  },
  {
   "cell_type": "markdown",
   "id": "477e7e66-ec4f-4c5b-b53b-e8be31cfdbb6",
   "metadata": {},
   "source": [
    "- 아래 셀에서 내 PC의 GPU가 잘 인식 되면 세팅이 완료 된 것. (교육생의 경우 RTX 2080 계열 GPU가 나올 것임)"
   ]
  },
  {
   "cell_type": "code",
   "execution_count": null,
   "id": "1013ff65-c7df-4b0c-bd53-1cc60b9aaac8",
   "metadata": {},
   "outputs": [],
   "source": [
    "import torch #import pytorch packages"
   ]
  },
  {
   "cell_type": "code",
   "execution_count": null,
   "id": "da997fa4-074a-4303-a352-d9b70f809c85",
   "metadata": {},
   "outputs": [],
   "source": [
    "torch.cuda.is_available() # Check GPU is available"
   ]
  },
  {
   "cell_type": "code",
   "execution_count": null,
   "id": "7b80e07f-8727-43df-a30b-c0122b0318cb",
   "metadata": {},
   "outputs": [],
   "source": [
    "torch.cuda.get_device_name(0) # Check GPU Device Name"
   ]
  }
 ],
 "metadata": {
  "kernelspec": {
   "display_name": "cv_edu2",
   "language": "python",
   "name": "cv_edu2"
  },
  "language_info": {
   "codemirror_mode": {
    "name": "ipython",
    "version": 3
   },
   "file_extension": ".py",
   "mimetype": "text/x-python",
   "name": "python",
   "nbconvert_exporter": "python",
   "pygments_lexer": "ipython3",
   "version": "3.8.13"
  }
 },
 "nbformat": 4,
 "nbformat_minor": 5
}
